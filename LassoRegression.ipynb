{
  "nbformat": 4,
  "nbformat_minor": 0,
  "metadata": {
    "colab": {
      "provenance": []
    },
    "kernelspec": {
      "name": "python3",
      "display_name": "Python 3"
    },
    "language_info": {
      "name": "python"
    }
  },
  "cells": [
    {
      "cell_type": "code",
      "execution_count": 1,
      "metadata": {
        "id": "NsuE9HYqTzWs"
      },
      "outputs": [],
      "source": [
        "import numpy as np"
      ]
    },
    {
      "cell_type": "code",
      "source": [
        "class LassoRegression():\n",
        "    def __init__(self, lr , ni ,lamdap):\n",
        "        self.lr = lr\n",
        "        self.ni = ni\n",
        "        self.lamdap = lamdap\n",
        "\n",
        "\n",
        "\n",
        "    def fit(self , X , Y):\n",
        "\n",
        "      self.m , self.n = X.shape\n",
        "      self.w = np.zeros(self.n)\n",
        "      self.b = 0\n",
        "      self.X = X\n",
        "      self.Y = Y\n",
        "      for i in range(self.ni):\n",
        "        self.update_weights()\n",
        "\n",
        "\n",
        "\n",
        "    def predict(self,X):\n",
        "      return X.dot(self.w) + self.b\n",
        "\n",
        "\n",
        "\n",
        "    def update_weights(self):\n",
        "\n",
        "      Y_pred = self.predict(self.X)\n",
        "\n",
        "      dw = np.zeros(self.n)\n",
        "\n",
        "      for i in range(self.n):\n",
        "\n",
        "        if self.w[i] > 0:\n",
        "          dw[i] = (-(2*(self.X[:,i].dot(self.Y - Y_pred) + self.lamdap)) / self.m)\n",
        "\n",
        "        else:\n",
        "          dw[i] = (-(2*(self.X[:,i].dot(self.Y - Y_pred) - self.lamdap)) / self.m)\n",
        "\n",
        "\n",
        "      db = -2 * np.sum(self.Y - Y_pred) / self.m\n",
        "\n",
        "      self.w = self.w - self.lr * dw\n",
        "      self.b = self.b - self.lr * db\n",
        "\n"
      ],
      "metadata": {
        "id": "IbppqVPpXYw1"
      },
      "execution_count": 3,
      "outputs": []
    },
    {
      "cell_type": "code",
      "source": [],
      "metadata": {
        "id": "91rFxQWHhZE9"
      },
      "execution_count": null,
      "outputs": []
    },
    {
      "cell_type": "code",
      "metadata": {
        "colab": {
          "base_uri": "https://localhost:8080/"
        },
        "id": "ac091a17",
        "outputId": "7d2dbb33-4c39-4e7e-d779-c730deb00657"
      },
      "source": [
        "import pandas as pd\n",
        "from sklearn.model_selection import train_test_split\n",
        "from sklearn.metrics import r2_score\n",
        "\n",
        "data = pd.read_csv('/content/drive/MyDrive/Dataset/Copy of salary_data.csv')\n",
        "\n",
        "X = data[['YearsExperience']].values\n",
        "y = data['Salary'].values\n",
        "\n",
        "X_train, X_test, y_train, y_test = train_test_split(X, y, test_size=0.2, random_state=42)\n",
        "\n",
        "model = LassoRegression(lr=0.01, ni=1000, lamdap=100)\n",
        "model.fit(X_train, y_train)\n",
        "\n",
        "y_pred = model.predict(X_test)\n",
        "\n",
        "accuracy = r2_score(y_test, y_pred)\n",
        "print(f\"R-squared accuracy: {accuracy}\")\n",
        "\n",
        "test_data_point = data.loc[[2], ['YearsExperience']].values\n",
        "prediction= model.predict(test_data_point)\n",
        "print(f\"Prediction : {prediction[0]}\")"
      ],
      "execution_count": 6,
      "outputs": [
        {
          "output_type": "stream",
          "name": "stdout",
          "text": [
            "R-squared accuracy: 0.9019893064571824\n",
            "Prediction : 39277.00998975869\n"
          ]
        }
      ]
    },
    {
      "cell_type": "code",
      "source": [],
      "metadata": {
        "id": "Pef8cqyyiAOP"
      },
      "execution_count": null,
      "outputs": []
    }
  ]
}