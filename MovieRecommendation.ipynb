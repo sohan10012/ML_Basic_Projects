{
  "nbformat": 4,
  "nbformat_minor": 0,
  "metadata": {
    "colab": {
      "provenance": []
    },
    "kernelspec": {
      "name": "python3",
      "display_name": "Python 3"
    },
    "language_info": {
      "name": "python"
    }
  },
  "cells": [
    {
      "cell_type": "code",
      "execution_count": 4,
      "metadata": {
        "id": "NSOwomzrEyn7"
      },
      "outputs": [],
      "source": [
        "import numpy as np\n",
        "import pandas as pd\n",
        "import difflib\n",
        "from sklearn.feature_extraction.text import TfidfVectorizer\n",
        "from sklearn.metrics.pairwise import cosine_similarity"
      ]
    },
    {
      "cell_type": "code",
      "source": [
        "data = pd.read_csv('/content/drive/MyDrive/Dataset/Copy of movies.csv')"
      ],
      "metadata": {
        "id": "vVOf__gyOIF8"
      },
      "execution_count": 6,
      "outputs": []
    },
    {
      "cell_type": "code",
      "source": [
        "data.head()"
      ],
      "metadata": {
        "id": "DR_vALhpPQe2",
        "outputId": "5e7d763d-848c-40bf-a659-091388996e21",
        "colab": {
          "base_uri": "https://localhost:8080/",
          "height": 741
        }
      },
      "execution_count": 7,
      "outputs": [
        {
          "output_type": "execute_result",
          "data": {
            "text/plain": [
              "   index     budget                                    genres  \\\n",
              "0      0  237000000  Action Adventure Fantasy Science Fiction   \n",
              "1      1  300000000                  Adventure Fantasy Action   \n",
              "2      2  245000000                    Action Adventure Crime   \n",
              "3      3  250000000               Action Crime Drama Thriller   \n",
              "4      4  260000000          Action Adventure Science Fiction   \n",
              "\n",
              "                                       homepage      id  \\\n",
              "0                   http://www.avatarmovie.com/   19995   \n",
              "1  http://disney.go.com/disneypictures/pirates/     285   \n",
              "2   http://www.sonypictures.com/movies/spectre/  206647   \n",
              "3            http://www.thedarkknightrises.com/   49026   \n",
              "4          http://movies.disney.com/john-carter   49529   \n",
              "\n",
              "                                            keywords original_language  \\\n",
              "0  culture clash future space war space colony so...                en   \n",
              "1  ocean drug abuse exotic island east india trad...                en   \n",
              "2         spy based on novel secret agent sequel mi6                en   \n",
              "3  dc comics crime fighter terrorist secret ident...                en   \n",
              "4  based on novel mars medallion space travel pri...                en   \n",
              "\n",
              "                             original_title  \\\n",
              "0                                    Avatar   \n",
              "1  Pirates of the Caribbean: At World's End   \n",
              "2                                   Spectre   \n",
              "3                     The Dark Knight Rises   \n",
              "4                               John Carter   \n",
              "\n",
              "                                            overview  popularity  ... runtime  \\\n",
              "0  In the 22nd century, a paraplegic Marine is di...  150.437577  ...   162.0   \n",
              "1  Captain Barbossa, long believed to be dead, ha...  139.082615  ...   169.0   \n",
              "2  A cryptic message from Bond’s past sends him o...  107.376788  ...   148.0   \n",
              "3  Following the death of District Attorney Harve...  112.312950  ...   165.0   \n",
              "4  John Carter is a war-weary, former military ca...   43.926995  ...   132.0   \n",
              "\n",
              "                                    spoken_languages    status  \\\n",
              "0  [{\"iso_639_1\": \"en\", \"name\": \"English\"}, {\"iso...  Released   \n",
              "1           [{\"iso_639_1\": \"en\", \"name\": \"English\"}]  Released   \n",
              "2  [{\"iso_639_1\": \"fr\", \"name\": \"Fran\\u00e7ais\"},...  Released   \n",
              "3           [{\"iso_639_1\": \"en\", \"name\": \"English\"}]  Released   \n",
              "4           [{\"iso_639_1\": \"en\", \"name\": \"English\"}]  Released   \n",
              "\n",
              "                                          tagline  \\\n",
              "0                     Enter the World of Pandora.   \n",
              "1  At the end of the world, the adventure begins.   \n",
              "2                           A Plan No One Escapes   \n",
              "3                                 The Legend Ends   \n",
              "4            Lost in our world, found in another.   \n",
              "\n",
              "                                      title vote_average vote_count  \\\n",
              "0                                    Avatar          7.2      11800   \n",
              "1  Pirates of the Caribbean: At World's End          6.9       4500   \n",
              "2                                   Spectre          6.3       4466   \n",
              "3                     The Dark Knight Rises          7.6       9106   \n",
              "4                               John Carter          6.1       2124   \n",
              "\n",
              "                                                cast  \\\n",
              "0  Sam Worthington Zoe Saldana Sigourney Weaver S...   \n",
              "1  Johnny Depp Orlando Bloom Keira Knightley Stel...   \n",
              "2  Daniel Craig Christoph Waltz L\\u00e9a Seydoux ...   \n",
              "3  Christian Bale Michael Caine Gary Oldman Anne ...   \n",
              "4  Taylor Kitsch Lynn Collins Samantha Morton Wil...   \n",
              "\n",
              "                                                crew           director  \n",
              "0  [{'name': 'Stephen E. Rivkin', 'gender': 0, 'd...      James Cameron  \n",
              "1  [{'name': 'Dariusz Wolski', 'gender': 2, 'depa...     Gore Verbinski  \n",
              "2  [{'name': 'Thomas Newman', 'gender': 2, 'depar...         Sam Mendes  \n",
              "3  [{'name': 'Hans Zimmer', 'gender': 2, 'departm...  Christopher Nolan  \n",
              "4  [{'name': 'Andrew Stanton', 'gender': 2, 'depa...     Andrew Stanton  \n",
              "\n",
              "[5 rows x 24 columns]"
            ],
            "text/html": [
              "\n",
              "  <div id=\"df-512584e7-1a74-4c15-bdb3-ba0e40e6658b\" class=\"colab-df-container\">\n",
              "    <div>\n",
              "<style scoped>\n",
              "    .dataframe tbody tr th:only-of-type {\n",
              "        vertical-align: middle;\n",
              "    }\n",
              "\n",
              "    .dataframe tbody tr th {\n",
              "        vertical-align: top;\n",
              "    }\n",
              "\n",
              "    .dataframe thead th {\n",
              "        text-align: right;\n",
              "    }\n",
              "</style>\n",
              "<table border=\"1\" class=\"dataframe\">\n",
              "  <thead>\n",
              "    <tr style=\"text-align: right;\">\n",
              "      <th></th>\n",
              "      <th>index</th>\n",
              "      <th>budget</th>\n",
              "      <th>genres</th>\n",
              "      <th>homepage</th>\n",
              "      <th>id</th>\n",
              "      <th>keywords</th>\n",
              "      <th>original_language</th>\n",
              "      <th>original_title</th>\n",
              "      <th>overview</th>\n",
              "      <th>popularity</th>\n",
              "      <th>...</th>\n",
              "      <th>runtime</th>\n",
              "      <th>spoken_languages</th>\n",
              "      <th>status</th>\n",
              "      <th>tagline</th>\n",
              "      <th>title</th>\n",
              "      <th>vote_average</th>\n",
              "      <th>vote_count</th>\n",
              "      <th>cast</th>\n",
              "      <th>crew</th>\n",
              "      <th>director</th>\n",
              "    </tr>\n",
              "  </thead>\n",
              "  <tbody>\n",
              "    <tr>\n",
              "      <th>0</th>\n",
              "      <td>0</td>\n",
              "      <td>237000000</td>\n",
              "      <td>Action Adventure Fantasy Science Fiction</td>\n",
              "      <td>http://www.avatarmovie.com/</td>\n",
              "      <td>19995</td>\n",
              "      <td>culture clash future space war space colony so...</td>\n",
              "      <td>en</td>\n",
              "      <td>Avatar</td>\n",
              "      <td>In the 22nd century, a paraplegic Marine is di...</td>\n",
              "      <td>150.437577</td>\n",
              "      <td>...</td>\n",
              "      <td>162.0</td>\n",
              "      <td>[{\"iso_639_1\": \"en\", \"name\": \"English\"}, {\"iso...</td>\n",
              "      <td>Released</td>\n",
              "      <td>Enter the World of Pandora.</td>\n",
              "      <td>Avatar</td>\n",
              "      <td>7.2</td>\n",
              "      <td>11800</td>\n",
              "      <td>Sam Worthington Zoe Saldana Sigourney Weaver S...</td>\n",
              "      <td>[{'name': 'Stephen E. Rivkin', 'gender': 0, 'd...</td>\n",
              "      <td>James Cameron</td>\n",
              "    </tr>\n",
              "    <tr>\n",
              "      <th>1</th>\n",
              "      <td>1</td>\n",
              "      <td>300000000</td>\n",
              "      <td>Adventure Fantasy Action</td>\n",
              "      <td>http://disney.go.com/disneypictures/pirates/</td>\n",
              "      <td>285</td>\n",
              "      <td>ocean drug abuse exotic island east india trad...</td>\n",
              "      <td>en</td>\n",
              "      <td>Pirates of the Caribbean: At World's End</td>\n",
              "      <td>Captain Barbossa, long believed to be dead, ha...</td>\n",
              "      <td>139.082615</td>\n",
              "      <td>...</td>\n",
              "      <td>169.0</td>\n",
              "      <td>[{\"iso_639_1\": \"en\", \"name\": \"English\"}]</td>\n",
              "      <td>Released</td>\n",
              "      <td>At the end of the world, the adventure begins.</td>\n",
              "      <td>Pirates of the Caribbean: At World's End</td>\n",
              "      <td>6.9</td>\n",
              "      <td>4500</td>\n",
              "      <td>Johnny Depp Orlando Bloom Keira Knightley Stel...</td>\n",
              "      <td>[{'name': 'Dariusz Wolski', 'gender': 2, 'depa...</td>\n",
              "      <td>Gore Verbinski</td>\n",
              "    </tr>\n",
              "    <tr>\n",
              "      <th>2</th>\n",
              "      <td>2</td>\n",
              "      <td>245000000</td>\n",
              "      <td>Action Adventure Crime</td>\n",
              "      <td>http://www.sonypictures.com/movies/spectre/</td>\n",
              "      <td>206647</td>\n",
              "      <td>spy based on novel secret agent sequel mi6</td>\n",
              "      <td>en</td>\n",
              "      <td>Spectre</td>\n",
              "      <td>A cryptic message from Bond’s past sends him o...</td>\n",
              "      <td>107.376788</td>\n",
              "      <td>...</td>\n",
              "      <td>148.0</td>\n",
              "      <td>[{\"iso_639_1\": \"fr\", \"name\": \"Fran\\u00e7ais\"},...</td>\n",
              "      <td>Released</td>\n",
              "      <td>A Plan No One Escapes</td>\n",
              "      <td>Spectre</td>\n",
              "      <td>6.3</td>\n",
              "      <td>4466</td>\n",
              "      <td>Daniel Craig Christoph Waltz L\\u00e9a Seydoux ...</td>\n",
              "      <td>[{'name': 'Thomas Newman', 'gender': 2, 'depar...</td>\n",
              "      <td>Sam Mendes</td>\n",
              "    </tr>\n",
              "    <tr>\n",
              "      <th>3</th>\n",
              "      <td>3</td>\n",
              "      <td>250000000</td>\n",
              "      <td>Action Crime Drama Thriller</td>\n",
              "      <td>http://www.thedarkknightrises.com/</td>\n",
              "      <td>49026</td>\n",
              "      <td>dc comics crime fighter terrorist secret ident...</td>\n",
              "      <td>en</td>\n",
              "      <td>The Dark Knight Rises</td>\n",
              "      <td>Following the death of District Attorney Harve...</td>\n",
              "      <td>112.312950</td>\n",
              "      <td>...</td>\n",
              "      <td>165.0</td>\n",
              "      <td>[{\"iso_639_1\": \"en\", \"name\": \"English\"}]</td>\n",
              "      <td>Released</td>\n",
              "      <td>The Legend Ends</td>\n",
              "      <td>The Dark Knight Rises</td>\n",
              "      <td>7.6</td>\n",
              "      <td>9106</td>\n",
              "      <td>Christian Bale Michael Caine Gary Oldman Anne ...</td>\n",
              "      <td>[{'name': 'Hans Zimmer', 'gender': 2, 'departm...</td>\n",
              "      <td>Christopher Nolan</td>\n",
              "    </tr>\n",
              "    <tr>\n",
              "      <th>4</th>\n",
              "      <td>4</td>\n",
              "      <td>260000000</td>\n",
              "      <td>Action Adventure Science Fiction</td>\n",
              "      <td>http://movies.disney.com/john-carter</td>\n",
              "      <td>49529</td>\n",
              "      <td>based on novel mars medallion space travel pri...</td>\n",
              "      <td>en</td>\n",
              "      <td>John Carter</td>\n",
              "      <td>John Carter is a war-weary, former military ca...</td>\n",
              "      <td>43.926995</td>\n",
              "      <td>...</td>\n",
              "      <td>132.0</td>\n",
              "      <td>[{\"iso_639_1\": \"en\", \"name\": \"English\"}]</td>\n",
              "      <td>Released</td>\n",
              "      <td>Lost in our world, found in another.</td>\n",
              "      <td>John Carter</td>\n",
              "      <td>6.1</td>\n",
              "      <td>2124</td>\n",
              "      <td>Taylor Kitsch Lynn Collins Samantha Morton Wil...</td>\n",
              "      <td>[{'name': 'Andrew Stanton', 'gender': 2, 'depa...</td>\n",
              "      <td>Andrew Stanton</td>\n",
              "    </tr>\n",
              "  </tbody>\n",
              "</table>\n",
              "<p>5 rows × 24 columns</p>\n",
              "</div>\n",
              "    <div class=\"colab-df-buttons\">\n",
              "\n",
              "  <div class=\"colab-df-container\">\n",
              "    <button class=\"colab-df-convert\" onclick=\"convertToInteractive('df-512584e7-1a74-4c15-bdb3-ba0e40e6658b')\"\n",
              "            title=\"Convert this dataframe to an interactive table.\"\n",
              "            style=\"display:none;\">\n",
              "\n",
              "  <svg xmlns=\"http://www.w3.org/2000/svg\" height=\"24px\" viewBox=\"0 -960 960 960\">\n",
              "    <path d=\"M120-120v-720h720v720H120Zm60-500h600v-160H180v160Zm220 220h160v-160H400v160Zm0 220h160v-160H400v160ZM180-400h160v-160H180v160Zm440 0h160v-160H620v160ZM180-180h160v-160H180v160Zm440 0h160v-160H620v160Z\"/>\n",
              "  </svg>\n",
              "    </button>\n",
              "\n",
              "  <style>\n",
              "    .colab-df-container {\n",
              "      display:flex;\n",
              "      gap: 12px;\n",
              "    }\n",
              "\n",
              "    .colab-df-convert {\n",
              "      background-color: #E8F0FE;\n",
              "      border: none;\n",
              "      border-radius: 50%;\n",
              "      cursor: pointer;\n",
              "      display: none;\n",
              "      fill: #1967D2;\n",
              "      height: 32px;\n",
              "      padding: 0 0 0 0;\n",
              "      width: 32px;\n",
              "    }\n",
              "\n",
              "    .colab-df-convert:hover {\n",
              "      background-color: #E2EBFA;\n",
              "      box-shadow: 0px 1px 2px rgba(60, 64, 67, 0.3), 0px 1px 3px 1px rgba(60, 64, 67, 0.15);\n",
              "      fill: #174EA6;\n",
              "    }\n",
              "\n",
              "    .colab-df-buttons div {\n",
              "      margin-bottom: 4px;\n",
              "    }\n",
              "\n",
              "    [theme=dark] .colab-df-convert {\n",
              "      background-color: #3B4455;\n",
              "      fill: #D2E3FC;\n",
              "    }\n",
              "\n",
              "    [theme=dark] .colab-df-convert:hover {\n",
              "      background-color: #434B5C;\n",
              "      box-shadow: 0px 1px 3px 1px rgba(0, 0, 0, 0.15);\n",
              "      filter: drop-shadow(0px 1px 2px rgba(0, 0, 0, 0.3));\n",
              "      fill: #FFFFFF;\n",
              "    }\n",
              "  </style>\n",
              "\n",
              "    <script>\n",
              "      const buttonEl =\n",
              "        document.querySelector('#df-512584e7-1a74-4c15-bdb3-ba0e40e6658b button.colab-df-convert');\n",
              "      buttonEl.style.display =\n",
              "        google.colab.kernel.accessAllowed ? 'block' : 'none';\n",
              "\n",
              "      async function convertToInteractive(key) {\n",
              "        const element = document.querySelector('#df-512584e7-1a74-4c15-bdb3-ba0e40e6658b');\n",
              "        const dataTable =\n",
              "          await google.colab.kernel.invokeFunction('convertToInteractive',\n",
              "                                                    [key], {});\n",
              "        if (!dataTable) return;\n",
              "\n",
              "        const docLinkHtml = 'Like what you see? Visit the ' +\n",
              "          '<a target=\"_blank\" href=https://colab.research.google.com/notebooks/data_table.ipynb>data table notebook</a>'\n",
              "          + ' to learn more about interactive tables.';\n",
              "        element.innerHTML = '';\n",
              "        dataTable['output_type'] = 'display_data';\n",
              "        await google.colab.output.renderOutput(dataTable, element);\n",
              "        const docLink = document.createElement('div');\n",
              "        docLink.innerHTML = docLinkHtml;\n",
              "        element.appendChild(docLink);\n",
              "      }\n",
              "    </script>\n",
              "  </div>\n",
              "\n",
              "\n",
              "    <div id=\"df-d45439af-3dbd-49a9-ab6e-26445dd3dddd\">\n",
              "      <button class=\"colab-df-quickchart\" onclick=\"quickchart('df-d45439af-3dbd-49a9-ab6e-26445dd3dddd')\"\n",
              "                title=\"Suggest charts\"\n",
              "                style=\"display:none;\">\n",
              "\n",
              "<svg xmlns=\"http://www.w3.org/2000/svg\" height=\"24px\"viewBox=\"0 0 24 24\"\n",
              "     width=\"24px\">\n",
              "    <g>\n",
              "        <path d=\"M19 3H5c-1.1 0-2 .9-2 2v14c0 1.1.9 2 2 2h14c1.1 0 2-.9 2-2V5c0-1.1-.9-2-2-2zM9 17H7v-7h2v7zm4 0h-2V7h2v10zm4 0h-2v-4h2v4z\"/>\n",
              "    </g>\n",
              "</svg>\n",
              "      </button>\n",
              "\n",
              "<style>\n",
              "  .colab-df-quickchart {\n",
              "      --bg-color: #E8F0FE;\n",
              "      --fill-color: #1967D2;\n",
              "      --hover-bg-color: #E2EBFA;\n",
              "      --hover-fill-color: #174EA6;\n",
              "      --disabled-fill-color: #AAA;\n",
              "      --disabled-bg-color: #DDD;\n",
              "  }\n",
              "\n",
              "  [theme=dark] .colab-df-quickchart {\n",
              "      --bg-color: #3B4455;\n",
              "      --fill-color: #D2E3FC;\n",
              "      --hover-bg-color: #434B5C;\n",
              "      --hover-fill-color: #FFFFFF;\n",
              "      --disabled-bg-color: #3B4455;\n",
              "      --disabled-fill-color: #666;\n",
              "  }\n",
              "\n",
              "  .colab-df-quickchart {\n",
              "    background-color: var(--bg-color);\n",
              "    border: none;\n",
              "    border-radius: 50%;\n",
              "    cursor: pointer;\n",
              "    display: none;\n",
              "    fill: var(--fill-color);\n",
              "    height: 32px;\n",
              "    padding: 0;\n",
              "    width: 32px;\n",
              "  }\n",
              "\n",
              "  .colab-df-quickchart:hover {\n",
              "    background-color: var(--hover-bg-color);\n",
              "    box-shadow: 0 1px 2px rgba(60, 64, 67, 0.3), 0 1px 3px 1px rgba(60, 64, 67, 0.15);\n",
              "    fill: var(--button-hover-fill-color);\n",
              "  }\n",
              "\n",
              "  .colab-df-quickchart-complete:disabled,\n",
              "  .colab-df-quickchart-complete:disabled:hover {\n",
              "    background-color: var(--disabled-bg-color);\n",
              "    fill: var(--disabled-fill-color);\n",
              "    box-shadow: none;\n",
              "  }\n",
              "\n",
              "  .colab-df-spinner {\n",
              "    border: 2px solid var(--fill-color);\n",
              "    border-color: transparent;\n",
              "    border-bottom-color: var(--fill-color);\n",
              "    animation:\n",
              "      spin 1s steps(1) infinite;\n",
              "  }\n",
              "\n",
              "  @keyframes spin {\n",
              "    0% {\n",
              "      border-color: transparent;\n",
              "      border-bottom-color: var(--fill-color);\n",
              "      border-left-color: var(--fill-color);\n",
              "    }\n",
              "    20% {\n",
              "      border-color: transparent;\n",
              "      border-left-color: var(--fill-color);\n",
              "      border-top-color: var(--fill-color);\n",
              "    }\n",
              "    30% {\n",
              "      border-color: transparent;\n",
              "      border-left-color: var(--fill-color);\n",
              "      border-top-color: var(--fill-color);\n",
              "      border-right-color: var(--fill-color);\n",
              "    }\n",
              "    40% {\n",
              "      border-color: transparent;\n",
              "      border-right-color: var(--fill-color);\n",
              "      border-top-color: var(--fill-color);\n",
              "    }\n",
              "    60% {\n",
              "      border-color: transparent;\n",
              "      border-right-color: var(--fill-color);\n",
              "    }\n",
              "    80% {\n",
              "      border-color: transparent;\n",
              "      border-right-color: var(--fill-color);\n",
              "      border-bottom-color: var(--fill-color);\n",
              "    }\n",
              "    90% {\n",
              "      border-color: transparent;\n",
              "      border-bottom-color: var(--fill-color);\n",
              "    }\n",
              "  }\n",
              "</style>\n",
              "\n",
              "      <script>\n",
              "        async function quickchart(key) {\n",
              "          const quickchartButtonEl =\n",
              "            document.querySelector('#' + key + ' button');\n",
              "          quickchartButtonEl.disabled = true;  // To prevent multiple clicks.\n",
              "          quickchartButtonEl.classList.add('colab-df-spinner');\n",
              "          try {\n",
              "            const charts = await google.colab.kernel.invokeFunction(\n",
              "                'suggestCharts', [key], {});\n",
              "          } catch (error) {\n",
              "            console.error('Error during call to suggestCharts:', error);\n",
              "          }\n",
              "          quickchartButtonEl.classList.remove('colab-df-spinner');\n",
              "          quickchartButtonEl.classList.add('colab-df-quickchart-complete');\n",
              "        }\n",
              "        (() => {\n",
              "          let quickchartButtonEl =\n",
              "            document.querySelector('#df-d45439af-3dbd-49a9-ab6e-26445dd3dddd button');\n",
              "          quickchartButtonEl.style.display =\n",
              "            google.colab.kernel.accessAllowed ? 'block' : 'none';\n",
              "        })();\n",
              "      </script>\n",
              "    </div>\n",
              "\n",
              "    </div>\n",
              "  </div>\n"
            ],
            "application/vnd.google.colaboratory.intrinsic+json": {
              "type": "dataframe",
              "variable_name": "data"
            }
          },
          "metadata": {},
          "execution_count": 7
        }
      ]
    },
    {
      "cell_type": "code",
      "source": [
        "selected_features = ['genres','keywords','tagline','cast','director']\n",
        "\n",
        "for feature in selected_features:\n",
        "  data[feature] = data[feature].fillna('')"
      ],
      "metadata": {
        "id": "TE2Xt49ZPRrW"
      },
      "execution_count": 8,
      "outputs": []
    },
    {
      "cell_type": "code",
      "source": [
        "combined_features = data['genres']+' '+data['keywords']+' '+data['tagline']+' '+data['cast']+' '+data['director']"
      ],
      "metadata": {
        "id": "8NPifYPnSDbT"
      },
      "execution_count": 9,
      "outputs": []
    },
    {
      "cell_type": "code",
      "source": [
        "print((combined_features))"
      ],
      "metadata": {
        "colab": {
          "base_uri": "https://localhost:8080/"
        },
        "id": "sACvuNSTVDJe",
        "outputId": "da701504-54a3-444d-a595-18e20c2f276f"
      },
      "execution_count": 14,
      "outputs": [
        {
          "output_type": "stream",
          "name": "stdout",
          "text": [
            "0       Action Adventure Fantasy Science Fiction cultu...\n",
            "1       Adventure Fantasy Action ocean drug abuse exot...\n",
            "2       Action Adventure Crime spy based on novel secr...\n",
            "3       Action Crime Drama Thriller dc comics crime fi...\n",
            "4       Action Adventure Science Fiction based on nove...\n",
            "                              ...                        \n",
            "4798    Action Crime Thriller united states\\u2013mexic...\n",
            "4799    Comedy Romance  A newlywed couple's honeymoon ...\n",
            "4800    Comedy Drama Romance TV Movie date love at fir...\n",
            "4801      A New Yorker in Shanghai Daniel Henney Eliza...\n",
            "4802    Documentary obsession camcorder crush dream gi...\n",
            "Length: 4803, dtype: object\n"
          ]
        }
      ]
    },
    {
      "cell_type": "code",
      "source": [
        "vectorizer = TfidfVectorizer()\n",
        "vectorizer.fit(combined_features)\n",
        "feature_vectors = vectorizer.transform(combined_features)\n",
        "print(feature_vectors)"
      ],
      "metadata": {
        "colab": {
          "base_uri": "https://localhost:8080/"
        },
        "id": "J2z6cCf3Uxth",
        "outputId": "37690d42-d039-430c-8699-26bb215b4356"
      },
      "execution_count": 15,
      "outputs": [
        {
          "output_type": "stream",
          "name": "stdout",
          "text": [
            "<Compressed Sparse Row sparse matrix of dtype 'float64'\n",
            "\twith 124266 stored elements and shape (4803, 17318)>\n",
            "  Coords\tValues\n",
            "  (0, 201)\t0.07860022416510505\n",
            "  (0, 274)\t0.09021200873707368\n",
            "  (0, 2432)\t0.17272411194153\n",
            "  (0, 3065)\t0.22208377802661425\n",
            "  (0, 3225)\t0.24960162956997736\n",
            "  (0, 3678)\t0.21392179219912877\n",
            "  (0, 4945)\t0.24025852494110758\n",
            "  (0, 5274)\t0.11108562744414445\n",
            "  (0, 5437)\t0.1036413987316636\n",
            "  (0, 5836)\t0.1646750903586285\n",
            "  (0, 7755)\t0.1128035714854756\n",
            "  (0, 8756)\t0.22709015857011816\n",
            "  (0, 10229)\t0.16058685400095302\n",
            "  (0, 11192)\t0.09049319826481456\n",
            "  (0, 11503)\t0.27211310056983656\n",
            "  (0, 13024)\t0.1942362060108871\n",
            "  (0, 13319)\t0.2177470539412484\n",
            "  (0, 13349)\t0.15021264094167086\n",
            "  (0, 13599)\t0.1036413987316636\n",
            "  (0, 14064)\t0.20596090415084142\n",
            "  (0, 14271)\t0.21392179219912877\n",
            "  (0, 14378)\t0.33962752210959823\n",
            "  (0, 14608)\t0.15150672398763912\n",
            "  (0, 15261)\t0.07095833561276566\n",
            "  (0, 16587)\t0.12549432354918996\n",
            "  :\t:\n",
            "  (4801, 7269)\t0.3025765103586468\n",
            "  (4801, 7474)\t0.11307961713172225\n",
            "  (4801, 10929)\t0.13504166990041588\n",
            "  (4801, 11663)\t0.21557500762727902\n",
            "  (4801, 13175)\t0.2886098184932947\n",
            "  (4801, 13835)\t0.2787002929120009\n",
            "  (4801, 13948)\t0.3025765103586468\n",
            "  (4801, 17150)\t0.3025765103586468\n",
            "  (4801, 17266)\t0.2886098184932947\n",
            "  (4802, 1316)\t0.1960747079005741\n",
            "  (4802, 2129)\t0.3099656128577656\n",
            "  (4802, 2425)\t0.24002350969074696\n",
            "  (4802, 3436)\t0.21753405888348784\n",
            "  (4802, 3654)\t0.262512960498006\n",
            "  (4802, 4371)\t0.1538239182675544\n",
            "  (4802, 4518)\t0.16784466610624255\n",
            "  (4802, 4528)\t0.19504460807622875\n",
            "  (4802, 4608)\t0.24002350969074696\n",
            "  (4802, 4980)\t0.16078053641367315\n",
            "  (4802, 5367)\t0.22969114490410403\n",
            "  (4802, 6155)\t0.18056463596934083\n",
            "  (4802, 6417)\t0.21753405888348784\n",
            "  (4802, 6996)\t0.5700048226105303\n",
            "  (4802, 11161)\t0.17867407682173203\n",
            "  (4802, 12989)\t0.1696476532191718\n"
          ]
        }
      ]
    },
    {
      "cell_type": "code",
      "source": [
        "similarity = cosine_similarity(feature_vectors)"
      ],
      "metadata": {
        "id": "t0QFxiCNVz_d"
      },
      "execution_count": 16,
      "outputs": []
    },
    {
      "cell_type": "code",
      "source": [
        "moviename = input(\"Enter name of the movie :\")"
      ],
      "metadata": {
        "colab": {
          "base_uri": "https://localhost:8080/"
        },
        "id": "jqIT77PmXBf1",
        "outputId": "f9b1fdb3-420c-4581-b1b9-37b26ab1a2f2"
      },
      "execution_count": 17,
      "outputs": [
        {
          "name": "stdout",
          "output_type": "stream",
          "text": [
            "Enter name of the movie :Spider Man\n"
          ]
        }
      ]
    },
    {
      "cell_type": "code",
      "source": [
        "movietitle = data['title'].tolist()"
      ],
      "metadata": {
        "id": "SlCvaVMrYpYZ"
      },
      "execution_count": 18,
      "outputs": []
    },
    {
      "cell_type": "code",
      "source": [
        "closematch  = difflib.get_close_matches(moviename,movietitle)\n",
        "print(closematch)"
      ],
      "metadata": {
        "colab": {
          "base_uri": "https://localhost:8080/"
        },
        "id": "rG_RmSSRYvhN",
        "outputId": "1582770d-7844-4e06-945a-be2cb5f980c5"
      },
      "execution_count": 19,
      "outputs": [
        {
          "output_type": "stream",
          "name": "stdout",
          "text": [
            "['Spider-Man', 'Spider-Man 3', 'Spider-Man 2']\n"
          ]
        }
      ]
    },
    {
      "cell_type": "code",
      "source": [
        "index_val  = data[data.title == closematch[0]]['index'].values[0]\n",
        "print(index_val)"
      ],
      "metadata": {
        "colab": {
          "base_uri": "https://localhost:8080/"
        },
        "id": "RIzSmm0uZLhn",
        "outputId": "b39aa152-fe9e-4cb1-a015-a8fa7dfcbba7"
      },
      "execution_count": 20,
      "outputs": [
        {
          "output_type": "stream",
          "name": "stdout",
          "text": [
            "159\n"
          ]
        }
      ]
    },
    {
      "cell_type": "code",
      "source": [
        "similarity_score = [(i, float(score)) for i, score in enumerate(similarity[index_val])]\n",
        "sortsimil = sorted(similarity_score, reverse=True, key=lambda x: x[1])"
      ],
      "metadata": {
        "id": "Q_u6jnLxeX3z"
      },
      "execution_count": 32,
      "outputs": []
    },
    {
      "cell_type": "code",
      "source": [
        "print(sortsimil)"
      ],
      "metadata": {
        "colab": {
          "base_uri": "https://localhost:8080/"
        },
        "id": "NhM0EacmfpfU",
        "outputId": "42933c49-9f35-43e3-d819-5eb39ddcaec3"
      },
      "execution_count": 33,
      "outputs": [
        {
          "output_type": "stream",
          "name": "stdout",
          "text": [
            "[(159, 1.0000000000000002), (5, 0.3188331558421017), (30, 0.3179190198222971), (1559, 0.18281312771525624), (382, 0.16501718739122467), (3575, 0.16167041055131565), (2361, 0.13913552967690979), (37, 0.13254335177245744), (1364, 0.1315753447298594), (1193, 0.12823533301253537), (1793, 0.12355727076460594), (328, 0.12188313538843792), (677, 0.11987005023906433), (1796, 0.11833294042448739), (1523, 0.11678331012908383), (1598, 0.11454660709309701), (4441, 0.11278570204538363), (2529, 0.10580630139750406), (4427, 0.10339492817261246), (976, 0.102549944616538), (2157, 0.10224484429143274), (978, 0.10101660950536459), (2369, 0.09964302137705913), (1435, 0.09844672492278539), (448, 0.09796336022022191), (1533, 0.09756374595438326), (2060, 0.09746246263620427), (2201, 0.09721199893417151), (2980, 0.09682299898140828), (2763, 0.09599045327407792), (3077, 0.09545910274922953), (3155, 0.095136209888088), (3046, 0.0950001738953069), (2592, 0.09458996594241367), (1239, 0.09280098679642097), (3188, 0.09241427013458639), (2514, 0.09235530623029502), (1427, 0.09195252622756761), (3728, 0.0915874594605384), (115, 0.09136917980461672), (2769, 0.08902978513302606), (2532, 0.08870039393973324), (764, 0.08760822386987277), (3479, 0.08695987760573394), (3445, 0.08683626031979826), (868, 0.08654153721754176), (3704, 0.0858541444350738), (2375, 0.08532222036313383), (1191, 0.08524298244808481), (701, 0.08355498391057392), (2588, 0.0834816433117842), (3607, 0.08262851166296528), (3130, 0.08211659256889839), (3073, 0.0821165617309897), (525, 0.08193925213349629), (3367, 0.08159576590899013), (3846, 0.08153093453825731), (3177, 0.08122618721491126), (767, 0.08111467229080588), (912, 0.08077455785032459), (49, 0.08074621044319252), (1440, 0.07911764566647818), (4, 0.07910312941508457), (1042, 0.07837125655047435), (1477, 0.07805694973631244), (2084, 0.07773956482642777), (2152, 0.07724551772388698), (2310, 0.07632767439486672), (1373, 0.0763224255423483), (96, 0.07615494638771908), (2605, 0.07614506206950442), (2979, 0.07601426176155027), (113, 0.07589000951117571), (3340, 0.07539439768657054), (3044, 0.0753710732270019), (4642, 0.07530487739304985), (2491, 0.07526499521430764), (2717, 0.0750777696468265), (2756, 0.07473178635853485), (3058, 0.0747027865590901), (3378, 0.07455638065075529), (1266, 0.07454436553569112), (2944, 0.07428663381849236), (1514, 0.07421741595022244), (3257, 0.07411693448367244), (3949, 0.07405013927445966), (1004, 0.07401754213196382), (3820, 0.07325843910816507), (2230, 0.07306682013488915), (259, 0.07213425645491214), (2169, 0.0721333544643259), (369, 0.07200363602588969), (431, 0.07162555953125826), (4696, 0.0712991439740998), (1252, 0.0711697546083846), (1871, 0.07110189695640268), (2147, 0.07091776078557434), (1002, 0.07084454785402046), (3450, 0.0705683613184927), (3262, 0.07051681521112683), (3265, 0.07045515804013872), (3841, 0.07005025812793393), (4351, 0.06999591923127249), (3935, 0.0698876413739459), (3048, 0.06963321976015631), (2354, 0.06947759122058923), (1668, 0.06901865881976738), (2517, 0.06796683055888693), (1461, 0.0677553053824879), (2691, 0.06718044876659153), (3636, 0.06716705247325722), (1225, 0.06709056190530971), (1874, 0.06704009809211765), (2260, 0.06691738042516346), (2665, 0.06636061180090866), (2801, 0.06631817035087822), (3390, 0.06576171117127537), (3399, 0.06508832799825638), (964, 0.06477184338274541), (2424, 0.06473968030876269), (648, 0.06469077733732337), (1887, 0.06466510576989962), (2432, 0.06418931283421347), (1964, 0.06414056321852635), (918, 0.0640694986567972), (2682, 0.06388676616216672), (1245, 0.06309033986085914), (2476, 0.06278661373500602), (2721, 0.061909807262434544), (1089, 0.06176864466478642), (2136, 0.06063405301902502), (3698, 0.06050058195137925), (505, 0.060232259920788914), (1652, 0.060001409209521746), (4595, 0.05959387170745854), (397, 0.05921677249486419), (1016, 0.05888374417224711), (501, 0.05877792672000437), (1136, 0.05841728780086101), (394, 0.0583332831398362), (0, 0.05803347266824191), (773, 0.05788853824951153), (4610, 0.05788344729177937), (811, 0.0578088520941183), (2053, 0.057709138532660055), (639, 0.057608546099827), (1500, 0.05745453696734311), (3940, 0.0573105008585004), (1719, 0.056864546956140544), (3029, 0.056827236773064324), (512, 0.056791154568112984), (4288, 0.05660882844319337), (861, 0.05629342217660302), (1365, 0.056116169850408175), (787, 0.055939861980427955), (2611, 0.05588383216859908), (3881, 0.05568673341987075), (261, 0.055542331785308464), (3791, 0.055264498297016885), (3124, 0.05512338561882203), (1613, 0.05475990348182194), (837, 0.05458406004502327), (3064, 0.05370150807828598), (1408, 0.05369061457241228), (4463, 0.053581915890649694), (2586, 0.053399368955730955), (2163, 0.05317980847059477), (2142, 0.052593534817568795), (2989, 0.05255329433408724), (4429, 0.05244016928788349), (1558, 0.05188900376655238), (2049, 0.05171971609034262), (1967, 0.05162566884118468), (335, 0.051573102464076814), (986, 0.05147102067195907), (1012, 0.051205359237555655), (3941, 0.051045206745959894), (3302, 0.0506270267047264), (1783, 0.050616185496658625), (2561, 0.0504039678906998), (709, 0.050365320440431266), (3014, 0.05025571684606693), (2652, 0.05010106263001876), (1787, 0.04996735942617304), (4672, 0.04984944118334613), (408, 0.04943684681248263), (2218, 0.04935782251560443), (2141, 0.04901717215251252), (1534, 0.048988074695958776), (784, 0.04891912563128713), (293, 0.04887243404148506), (1183, 0.04847057810402671), (2578, 0.04824347863302858), (2034, 0.04820731496405139), (4489, 0.04797106133380157), (4376, 0.04780676096933942), (1543, 0.04776881822609584), (3869, 0.047670341652477057), (330, 0.04748867093163438), (87, 0.04748557281304388), (1466, 0.0474455514240088), (3366, 0.04720444672740183), (3858, 0.04707878127166842), (4238, 0.04692220733967821), (4766, 0.046618617370621895), (1084, 0.04660196052486527), (1349, 0.04651729149900372), (1731, 0.046450494424100236), (3325, 0.046392471191124024), (832, 0.046212920775916), (1839, 0.046108370418126834), (243, 0.04607858190521464), (20, 0.04593061379094502), (4630, 0.04586306969844825), (4240, 0.045840924173754294), (1131, 0.04582998444719645), (2043, 0.04582880411128445), (3618, 0.04579412964119079), (1713, 0.045770974301221616), (862, 0.045398169938515136), (451, 0.045264730423160704), (1246, 0.04520659941744055), (1467, 0.04479198563889955), (4599, 0.04468039665931238), (1247, 0.044355604277034964), (2008, 0.044121080878235595), (3684, 0.0440625771921144), (2879, 0.04405309138163817), (3815, 0.043751086793128204), (2183, 0.043692347234217915), (419, 0.04346760539990521), (3086, 0.04343143609134975), (1138, 0.04340700261420281), (1040, 0.043396292488948454), (3758, 0.04322993804455478), (4326, 0.04311993651346864), (494, 0.04282298805710727), (1802, 0.042708391947902234), (4331, 0.04249612839631248), (4098, 0.04190165818031445), (1472, 0.04182762018428762), (573, 0.041780113055041465), (2012, 0.041768072918502444), (1276, 0.04164800684630507), (4669, 0.0415335290289451), (131, 0.04143310842205786), (894, 0.04135568250940948), (4181, 0.04132095168849631), (2348, 0.04124434776843372), (1546, 0.04123686498001538), (1074, 0.04122267921390016), (1275, 0.0410680241340519), (1606, 0.04106367141323663), (370, 0.040869976147851324), (911, 0.04080599398073565), (3594, 0.04032700176297693), (305, 0.040201161615624294), (4282, 0.03989796625982196), (4269, 0.03979637960214639), (191, 0.03969184089643059), (3613, 0.039527163735965855), (223, 0.039417834461168845), (1663, 0.03938398876876441), (546, 0.03937683034051888), (1029, 0.03931742489713802), (1017, 0.03904961870628706), (3337, 0.03900783485666707), (2885, 0.03884339628119726), (1024, 0.0388187418218789), (81, 0.03855935034193586), (225, 0.03850699730687563), (410, 0.03834031865200323), (1849, 0.03831283631219705), (3054, 0.03799523762587526), (1259, 0.03790664870472665), (1890, 0.03787928616871916), (3668, 0.03780438675116495), (602, 0.037782292522557936), (3106, 0.03762266403414782), (2427, 0.03762233014450174), (1583, 0.03757927189870563), (1471, 0.03755663013093847), (4675, 0.03751939910379312), (3925, 0.037468798168946854), (1483, 0.037360156293357996), (217, 0.0371489519156467), (1101, 0.03714343572485218), (1399, 0.037007614809788605), (903, 0.036999370960068056), (2255, 0.036865433104840445), (1176, 0.03650175221564106), (2175, 0.0364119160723202), (1296, 0.03639935270572535), (612, 0.03627715667483895), (3098, 0.03627179852652272), (872, 0.03626985775956301), (1469, 0.036203640568339544), (1220, 0.03619165366723832), (4294, 0.036158091737091835), (1831, 0.03610000958437866), (4688, 0.036033319474808936), (2312, 0.03593711644466259), (1823, 0.03567283977859857), (3438, 0.035634640919746344), (1989, 0.03554879147342766), (1320, 0.0355145473197861), (762, 0.035508746950512975), (3351, 0.035494667199193516), (4332, 0.035467414686181274), (4136, 0.03544713047753666), (1463, 0.03542396020124482), (206, 0.03542339866986912), (80, 0.03537377541537521), (104, 0.03531945065394845), (3813, 0.035315345685954014), (2215, 0.03527258335933957), (2203, 0.0352168784464143), (1359, 0.035149056559709124), (31, 0.03510954856669071), (363, 0.035108467432305376), (297, 0.03506135944780071), (3020, 0.03462357113193003), (2307, 0.03461057065417196), (3775, 0.0345930783978487), (962, 0.03455171767724995), (1799, 0.03445971504750716), (1050, 0.0344572508570019), (4453, 0.034363064036817416), (1999, 0.034325936923790226), (3577, 0.034271685619171995), (746, 0.03415002853396542), (570, 0.03411851354353803), (1737, 0.034102843754637006), (1145, 0.033989222488251876), (533, 0.03392947485473337), (2167, 0.03373803406502734), (1657, 0.0336698866060394), (4604, 0.03364000093821674), (2433, 0.03363735222690533), (3548, 0.03363555729057612), (275, 0.03348313398001791), (265, 0.03346317136039693), (4106, 0.03339152863134233), (2470, 0.033237784257966516), (633, 0.03315550737007631), (2368, 0.03303776564118302), (1213, 0.03299086082714517), (1577, 0.03294691516959331), (4000, 0.03291185264242714), (10, 0.03289500092097852), (826, 0.03283960512381495), (2506, 0.03275706101852563), (162, 0.032740510905059125), (836, 0.03270850746270225), (1680, 0.03260074913460051), (2922, 0.03247317169649758), (1723, 0.03242345957547914), (1119, 0.032381664144184225), (1347, 0.032358679853984225), (4371, 0.03235426706779689), (4401, 0.03234125828904343), (4124, 0.03219300726233108), (1590, 0.03218738483160301), (4160, 0.03218346446377032), (246, 0.032145320534770865), (698, 0.03211012651738635), (932, 0.03209318677593763), (4375, 0.032006600863313334), (3741, 0.03199537469541385), (1001, 0.0319431880070594), (4132, 0.03184422193029182), (2498, 0.031797064411392406), (1363, 0.03177299159536357), (2448, 0.03171672110115653), (1278, 0.03169619354935462), (3377, 0.03161334677560161), (2790, 0.03158476524970284), (177, 0.031525600240122686), (1421, 0.03140332757735506), (3250, 0.03139064669748907), (2998, 0.03137886997021439), (2489, 0.03136562927831451), (1567, 0.03120705869235128), (3937, 0.03114931099875265), (1028, 0.031048029732173986), (3406, 0.031011606284449232), (938, 0.031010225469879353), (1065, 0.030959031036616767), (1918, 0.030931831225200074), (2403, 0.030880588885095546), (1930, 0.03086326581219087), (1591, 0.03075923748716296), (3757, 0.030748335107286563), (4172, 0.03068636513601464), (4094, 0.030523443672830292), (3208, 0.030517178975058002), (2864, 0.03050937426665294), (3744, 0.030444620574947606), (1262, 0.03039637323026679), (1150, 0.030233864034744155), (2892, 0.030226217678342215), (156, 0.03006830789825858), (827, 0.03006422521900863), (1949, 0.030020760270613348), (1804, 0.02996477310403646), (3286, 0.029853787277104107), (896, 0.029844179048947282), (1063, 0.02980958417249421), (165, 0.029730454419252057), (286, 0.0297099665907583), (2685, 0.029701708702556038), (849, 0.029699249215575086), (3176, 0.029640945441856005), (3854, 0.02964053120602453), (1116, 0.029635105789217395), (1053, 0.02958678218600453), (3638, 0.02958010331834958), (2373, 0.02957870090980353), (2941, 0.029527309731006524), (547, 0.029471675066857217), (2239, 0.029464113384404217), (4024, 0.02941389978601721), (1199, 0.02934670064050235), (183, 0.029223879631208448), (3343, 0.02920643246110379), (3899, 0.02911425068379534), (2352, 0.029086590485496666), (2068, 0.029064147233131634), (2700, 0.028956087489961226), (852, 0.028952810796317306), (643, 0.028921492562646957), (1612, 0.028888637665560754), (812, 0.02885943461700521), (3802, 0.028832621383593455), (2434, 0.02883022667867485), (2815, 0.028813977915163977), (597, 0.02877587700967287), (1905, 0.028686810992366328), (2627, 0.02867499730733354), (4189, 0.028658987027682346), (2038, 0.028566411147034468), (3726, 0.02854238357645887), (1, 0.028510860472594185), (2242, 0.02838573896883963), (3755, 0.028382827476754083), (3081, 0.028370821581560398), (2749, 0.028346517866982335), (1686, 0.028341981459404725), (3830, 0.02832700690227505), (3688, 0.02825680979084444), (23, 0.028252755876041348), (4457, 0.02823949394741239), (2521, 0.02823523669160481), (1448, 0.028200202498086573), (29, 0.028149881853568752), (981, 0.028136048904568348), (2914, 0.028131271582024508), (46, 0.028113041813029233), (4392, 0.02804986889643443), (3765, 0.02798584664020899), (584, 0.02776353276913136), (3429, 0.027746350997695606), (867, 0.02772123556982089), (1845, 0.02770330601774871), (1416, 0.02761155450306656), (2040, 0.027527399114164422), (2, 0.027527242422615502), (2029, 0.027526071542407018), (485, 0.027497772931207302), (4774, 0.02748800439096527), (4199, 0.027479794705578913), (3936, 0.02747673446537556), (3495, 0.027391028059059297), (4728, 0.027389959782990952), (43, 0.02734855160178151), (4016, 0.02733767876002317), (4480, 0.027299791895313393), (3750, 0.02724453392693748), (1043, 0.027237226212450116), (2496, 0.027170161030429855), (2316, 0.027127413800867348), (3342, 0.027112619908571643), (4119, 0.027079119729564324), (2210, 0.026980691600391564), (4078, 0.02695452427360636), (135, 0.026841087567701365), (4069, 0.026757953552809098), (2805, 0.026735264567919963), (1334, 0.02673512534117025), (1994, 0.026689489694311758), (1932, 0.026687879281416596), (2370, 0.02667384443004217), (1654, 0.02662501632855161), (2144, 0.026577306754981236), (4592, 0.026557438391535945), (3432, 0.02652889592818803), (232, 0.026514005285707586), (2735, 0.026513424372837147), (2095, 0.026507696409297704), (3500, 0.026497020205273517), (4113, 0.026448686645478683), (2571, 0.026442382242524994), (2886, 0.026370170893015864), (4638, 0.02636461943454516), (4649, 0.026345218615064156), (1812, 0.02633723023865983), (825, 0.026295043020388334), (215, 0.02624407622696388), (4576, 0.02619821355512851), (692, 0.026192808662578986), (3864, 0.026183778019770506), (2264, 0.02617275029180201), (1415, 0.026169598234703183), (631, 0.026166636963016212), (3737, 0.02616574514985768), (4102, 0.02615797502422797), (4573, 0.026143259340214508), (684, 0.026119588387082532), (1019, 0.026077564191945506), (1836, 0.026022700923829408), (465, 0.02601257351798359), (1623, 0.02594713507174737), (3032, 0.025939173000686783), (468, 0.02593577526515802), (1153, 0.025917218262610425), (559, 0.02590361640756891), (1749, 0.025872593065290318), (3903, 0.025846606741785363), (2549, 0.025815738576664467), (4175, 0.025807417282511604), (1851, 0.025725685029178172), (2708, 0.025681507571736463), (2563, 0.02565973395320913), (2118, 0.02560411348639777), (4146, 0.025506775604382637), (630, 0.025427814569102786), (1405, 0.02538220756481303), (3798, 0.025271829665801857), (2187, 0.02523671918977481), (4013, 0.02521317601788555), (2878, 0.0251514423217272), (334, 0.02512310757394401), (3901, 0.025030080295968114), (917, 0.025001135838189418), (1132, 0.024927858958183034), (4219, 0.02491834768647442), (3148, 0.024849274776773695), (2035, 0.024837572435706032), (379, 0.02473064233758267), (2052, 0.02470918391575555), (1006, 0.02470523134124599), (1671, 0.024690223184750802), (294, 0.02464339056688481), (870, 0.024624426587020437), (3151, 0.02459469118522828), (3715, 0.024571575246624375), (2149, 0.02447373836140177), (329, 0.024467824021755912), (1233, 0.024426823611084413), (1146, 0.02435330714054105), (4211, 0.024336167831947426), (627, 0.024213771207706694), (798, 0.0240772843398251), (1902, 0.024075548481841725), (2343, 0.024059265386983317), (4216, 0.024044364397982042), (3878, 0.024039934231379432), (744, 0.024025818215044747), (1000, 0.02401501060209944), (2278, 0.023961810791169273), (1212, 0.02395366941510638), (1556, 0.02394669877707621), (690, 0.02392595192161453), (2965, 0.023904319418353318), (632, 0.023895546627344673), (4010, 0.023877811006196736), (4449, 0.023864994128992907), (1616, 0.023838186494916442), (556, 0.02381810925679563), (1922, 0.02378845868002298), (1443, 0.02378308739604025), (2042, 0.0237815323005242), (2450, 0.023725067922687013), (105, 0.023694345692517597), (2469, 0.023693464988253535), (2133, 0.023692513674490392), (970, 0.023638658533464006), (743, 0.02363285531183751), (292, 0.02362137110303258), (4311, 0.02358482157182682), (326, 0.023516593139279014), (390, 0.02344357227664464), (393, 0.023360276241044718), (1913, 0.023314877234769955), (2340, 0.023291597703211063), (4538, 0.023229737201705757), (3010, 0.02322628525917011), (4340, 0.02320407037688154), (2747, 0.023164974668895246), (3836, 0.023089510355707853), (2674, 0.023071231704716345), (3243, 0.02304216854937979), (4395, 0.022912270453137592), (1759, 0.022910524261163873), (2875, 0.022892032209825545), (4501, 0.022795831942496687), (2862, 0.022789681983925805), (71, 0.022787181192934415), (2237, 0.022762485898990326), (3304, 0.022747561810862973), (797, 0.022676231621363584), (3465, 0.022675781389525192), (2957, 0.022642641244399214), (1674, 0.02264024257830248), (1420, 0.02263436845964624), (1958, 0.02260511290276677), (572, 0.022521817536956014), (2145, 0.02249620595246407), (3440, 0.022482595832444274), (1879, 0.0224813181402423), (3172, 0.022419196870140337), (1085, 0.02241559731897838), (3319, 0.022412180400665803), (3584, 0.02239155092958782), (1109, 0.022325160036472634), (3355, 0.022285836632856753), (3857, 0.022281827389453696), (4515, 0.022251940052162043), (199, 0.022244473897982158), (3804, 0.022207789111257564), (4049, 0.02218463915308531), (1384, 0.022151000558037124), (1611, 0.02212391014876766), (2788, 0.022085962360678286), (1412, 0.022076489013246842), (4594, 0.02207363568378633), (2261, 0.02199885433857481), (1494, 0.021990880656344115), (943, 0.021983977858370373), (3886, 0.02189448140405183), (3006, 0.021820057083839585), (2131, 0.021812228492354868), (2077, 0.021801189732292225), (816, 0.021767680361909507), (1678, 0.02175039874808658), (713, 0.021709314051347354), (4233, 0.021695766240644863), (1525, 0.02169053317313746), (19, 0.021680168394872627), (354, 0.021680102607605452), (4760, 0.02162742057655669), (3034, 0.021624943398995466), (3287, 0.021600839794356154), (1819, 0.021499547337751394), (2722, 0.02148777454708989), (2109, 0.021483245090514337), (2189, 0.02146672064460008), (1068, 0.02145342939625021), (2516, 0.02142800503087253), (2165, 0.021375776573679714), (32, 0.021374196216168765), (1081, 0.021350767406253527), (3597, 0.021347031641827306), (3662, 0.02132943061765266), (391, 0.021320833783375966), (2247, 0.021320244354942924), (814, 0.021293734694111083), (2820, 0.021284197287611252), (3404, 0.021271428812845397), (3529, 0.02120228325839114), (1688, 0.02118333471824494), (2338, 0.021176881732866693), (831, 0.021136776428185042), (381, 0.02111414221240898), (1216, 0.021112135910404888), (4232, 0.02109704160499344), (3908, 0.021083482780277017), (557, 0.021028925889477183), (4440, 0.021014657751862082), (4041, 0.0209900162271331), (3239, 0.020983353626129412), (774, 0.020963027330618424), (387, 0.02095369662955097), (3299, 0.020837296246129837), (2267, 0.02083607874018961), (1380, 0.020801838237626925), (4717, 0.020797967016960267), (3007, 0.02072266209241574), (4297, 0.020694706439256215), (3622, 0.020649658415777164), (2015, 0.020615233794914964), (3347, 0.020515695139026197), (1090, 0.020494736774946218), (1655, 0.020479795864313637), (3329, 0.0204333231637294), (1748, 0.020424797550611853), (1852, 0.02038346079752563), (374, 0.020307525628535838), (2889, 0.020283339909834986), (2216, 0.020279867357612145), (2838, 0.02027881115990209), (4011, 0.020274455990110445), (54, 0.020272288246807317), (106, 0.020192655167031864), (3834, 0.020189576855222904), (327, 0.020189210343887033), (715, 0.020167308329357536), (4228, 0.02015745888017391), (3945, 0.020155575567492062), (1747, 0.02009198790919848), (4518, 0.02002895317766016), (2797, 0.020003346692375284), (269, 0.019994587656961306), (579, 0.019985358577826424), (770, 0.01991110669641808), (675, 0.01988551971710468), (923, 0.019882564764147417), (8, 0.01984856933034166), (4171, 0.019843818676723003), (1154, 0.019829879573867906), (561, 0.01981776589058058), (2219, 0.019808739689053327), (2025, 0.01977521322979819), (3311, 0.019766798391792663), (4477, 0.01976274179007896), (1488, 0.019759919846224137), (1206, 0.019756531112603403), (3624, 0.01962232070285531), (1687, 0.019600119991150945), (1458, 0.01956042563301085), (4664, 0.019543208517603453), (1250, 0.019532871214689683), (3466, 0.019518343670274656), (1854, 0.019509237868269042), (484, 0.019506338486168093), (132, 0.019452783169546014), (256, 0.01944957621659988), (467, 0.01943110743540398), (73, 0.019332180372446887), (969, 0.01931789116168493), (3918, 0.019290530345642563), (671, 0.019280004077395375), (1217, 0.01924914990953142), (1485, 0.01923284110706934), (2418, 0.019226554111823384), (3270, 0.019224744075306437), (2543, 0.01920609094695274), (1813, 0.01916786299381368), (4033, 0.01916629263364733), (3180, 0.019151862953971466), (3552, 0.01910435063481058), (3566, 0.019084569319871122), (44, 0.019073085652582145), (4329, 0.019068071536789036), (101, 0.019057072065238885), (4454, 0.019047852476970904), (375, 0.01900842376962771), (362, 0.018999567325810266), (4088, 0.018996610648687705), (2349, 0.018994194178821908), (1777, 0.01897175624330653), (2762, 0.018968269636607603), (4654, 0.01894577017304805), (239, 0.01894061926284921), (133, 0.018930753393104672), (1046, 0.01891034723078067), (279, 0.01888337812392765), (3931, 0.018865864554349437), (3648, 0.018858475631109938), (1238, 0.018834391083483986), (1833, 0.018799061076023617), (3568, 0.018775926018426557), (4539, 0.018721468474249405), (2317, 0.0186898752518413), (444, 0.018651316078695208), (2846, 0.018641691137802147), (2650, 0.018621803169772723), (4307, 0.01861181748738573), (1595, 0.018598878629133724), (3439, 0.018587086884527117), (420, 0.018573284921862603), (1289, 0.01856900599394062), (934, 0.0185630855146123), (759, 0.018559184771300242), (2865, 0.018548494422893032), (786, 0.01854197527362659), (1764, 0.018512772291748185), (1953, 0.018493627720463743), (2655, 0.01847131997702554), (4368, 0.018410086459134275), (2346, 0.018395783508875226), (3097, 0.01839241897848745), (107, 0.018362428726588317), (428, 0.018300600462419922), (4151, 0.018282906774077578), (1728, 0.01824594364454764), (1321, 0.018243848392064346), (2198, 0.018177223653427513), (4565, 0.018145859730401795), (2023, 0.01813976796427974), (296, 0.01811821308411124), (1160, 0.018113240696384723), (171, 0.01808087077029254), (1390, 0.018067441408810725), (476, 0.01803055447660979), (1230, 0.017973755960617472), (2461, 0.01797078930136001), (322, 0.017925319594230132), (3153, 0.017913032022043182), (167, 0.017906505322304686), (1914, 0.017886755466334364), (266, 0.017884864307855252), (1144, 0.017833213265720068), (1586, 0.01783284812516206), (4487, 0.01782814869309185), (103, 0.017812445527246226), (299, 0.017808592471033988), (2083, 0.01779377012395071), (1086, 0.017786398732290962), (730, 0.017778002256035017), (48, 0.017761581007851635), (3667, 0.017716411055689083), (12, 0.017699463936031612), (38, 0.017691189860100036), (946, 0.017687651299996814), (198, 0.017660175852830386), (365, 0.01765180661113204), (1035, 0.01763864331501224), (114, 0.017599568856964395), (1995, 0.01759506017973418), (2750, 0.017591579450959276), (664, 0.017562503479304752), (775, 0.017540891092902834), (129, 0.017522151204293047), (977, 0.017503029946407497), (227, 0.017435888695442443), (160, 0.017431093912831656), (148, 0.017414732859013633), (3856, 0.017379017762410284), (22, 0.017356132823837144), (267, 0.017332139077057062), (3293, 0.017300656258901797), (2459, 0.017287983959551816), (61, 0.01728409112447425), (1237, 0.017268110916719537), (14, 0.01722159880482989), (94, 0.017201780208341358), (768, 0.017158811109783515), (2490, 0.017095531693368884), (9, 0.017094559158687336), (1746, 0.017077486856902753), (589, 0.017070370311517653), (3494, 0.01702146848290038), (1960, 0.017018136402758594), (2407, 0.017001510731957374), (1139, 0.01696191378814953), (2390, 0.016943030388685058), (2633, 0.016934538772451293), (17, 0.016931592006051974), (262, 0.01692295997018975), (4155, 0.016888690055462903), (3982, 0.01688571308411511), (2096, 0.016849407553870977), (2429, 0.016836271341653025), (72, 0.016819163049743877), (241, 0.016783184609248103), (2262, 0.01677665839193801), (668, 0.016773483609286002), (50, 0.01675835233622915), (3033, 0.01673808168156563), (331, 0.01672987387277568), (2062, 0.016706716680842233), (4193, 0.01669916638662962), (472, 0.01665143748170675), (537, 0.0166241646849714), (1753, 0.016598514715407808), (3037, 0.016579608276092436), (2996, 0.016574391246545663), (208, 0.01657026877309773), (1939, 0.016562418682095098), (210, 0.01654954541762279), (2921, 0.016547413158915794), (138, 0.016530971622959426), (168, 0.016523467682962006), (486, 0.01649995045293052), (4779, 0.01648538088858916), (3490, 0.016477317330795493), (1110, 0.01647519650122036), (813, 0.016449237767729833), (2100, 0.016436982833676894), (187, 0.016421463803175947), (3920, 0.016396547222862032), (2678, 0.01633220803844976), (4263, 0.01631685182556618), (4608, 0.016315827437983987), (13, 0.016312073634578168), (98, 0.016302231816249263), (1049, 0.016296467471429897), (121, 0.016294824466582314), (3986, 0.01623829906550574), (3194, 0.016228698016196124), (1718, 0.016182760899117958), (4413, 0.01615410413127921), (1282, 0.016123674050714593), (1111, 0.016089228336834217), (403, 0.016083408378456003), (45, 0.016051673385109606), (126, 0.015991650179624735), (2513, 0.015976447480006175), (864, 0.015958125872926485), (238, 0.015919612627501273), (2069, 0.015887328072756016), (1343, 0.015871409115269595), (1669, 0.01585054189668475), (2659, 0.015808033305800287), (282, 0.015800375253659595), (611, 0.01579372311530345), (3481, 0.015788177004755766), (1743, 0.0157663169517924), (4259, 0.015752382038971415), (4646, 0.0157470475964137), (4147, 0.015738741679686086), (805, 0.015727127474819733), (2303, 0.015695895960791642), (937, 0.01567481724905892), (963, 0.015598587956166003), (1750, 0.015598311142374598), (3202, 0.015568171432946533), (728, 0.015559065770096296), (3792, 0.015547879992160901), (4167, 0.015543098485156635), (1192, 0.015534215895074126), (3521, 0.015524632983146503), (400, 0.015513084961853447), (1274, 0.01549244976586428), (1569, 0.015488743206360287), (4378, 0.015479020510473413), (1310, 0.015466537889585297), (3852, 0.015373164723241337), (1707, 0.015332772588261009), (1438, 0.015332193393267447), (2757, 0.01529289710657349), (4632, 0.015292860811415827), (315, 0.015266784664857164), (624, 0.015255575552006875), (2006, 0.015251257235305175), (3655, 0.015235674685022427), (941, 0.015231221535183213), (1675, 0.015163863990232458), (1453, 0.015150436472792581), (2336, 0.015056494258847515), (3493, 0.01498829698299852), (587, 0.014937372559189985), (859, 0.014870724493497339), (3427, 0.01486505320972046), (4055, 0.014810216596345741), (2494, 0.014807119586196108), (618, 0.014775660733751698), (1095, 0.01477374065366765), (271, 0.014714794243501212), (3067, 0.014713556780893462), (2777, 0.014710265862148617), (3056, 0.014674734898582873), (3501, 0.01464441185709525), (1277, 0.014640242770361977), (1626, 0.014599110122006636), (3969, 0.014558166403780125), (4129, 0.0145358342792575), (2089, 0.014503102937711364), (2617, 0.014492090925320437), (2597, 0.014479328281849606), (2367, 0.014413949906044563), (1977, 0.014407670015406441), (543, 0.014383362654148937), (1936, 0.014380573241240327), (2955, 0.014330655402113703), (4694, 0.014296530419768428), (1520, 0.014256168232350295), (102, 0.01425564930225887), (1518, 0.014251032612452978), (3733, 0.014244584301410007), (319, 0.0142408179543201), (3031, 0.01421884440459806), (2536, 0.014217017510140173), (2401, 0.014214942559838099), (1899, 0.014201696038427624), (3354, 0.014193144557526587), (4399, 0.014190980194940122), (1524, 0.014183789822509415), (4295, 0.01410497545221939), (332, 0.014078114863467049), (84, 0.014069107025210841), (1970, 0.014067813842364248), (1208, 0.014051825696840485), (4299, 0.01404069407949771), (4125, 0.014027530703652365), (1064, 0.014013846229830483), (3110, 0.013985895543166102), (1178, 0.013981136633842345), (4691, 0.013973998102006325), (4152, 0.013959778954789061), (1207, 0.013958185506441732), (2583, 0.013942282724885815), (4266, 0.013913218401730642), (1249, 0.01390655227945838), (3616, 0.01388513472316465), (1317, 0.013884881398754762), (3251, 0.013873293458296208), (2911, 0.013872131519331676), (3782, 0.013841247690395438), (1579, 0.013811283996967573), (347, 0.013804091883162518), (1708, 0.013783169646740718), (3352, 0.013759303543428508), (2572, 0.013734957794925076), (2614, 0.013734762294488011), (596, 0.013720540090833944), (4301, 0.013695938047067875), (972, 0.013655129263505428), (2649, 0.01365428955739418), (4583, 0.013647452640661393), (3590, 0.013638224673704532), (1490, 0.013618402213522767), (350, 0.013599921638516458), (1658, 0.01358469886728162), (226, 0.013564407876705866), (3647, 0.013557520076920812), (1291, 0.013554747990628524), (4670, 0.013525669478688497), (1031, 0.013524364328124448), (1775, 0.013515522325191258), (4627, 0.013510210229774574), (2851, 0.013492691473095914), (2890, 0.013472395832409605), (320, 0.013464429810703057), (1984, 0.01345974302878663), (2091, 0.01345591481418969), (3760, 0.013422534090877935), (1432, 0.013404738834072196), (1306, 0.013392053110402662), (3929, 0.013378033072392406), (3761, 0.013352257928763095), (3261, 0.013300287986595556), (112, 0.013297678232783855), (2371, 0.013286472713615998), (1966, 0.013252743618188888), (4771, 0.013249343514626342), (4579, 0.013248876474258629), (1366, 0.013246785004512205), (644, 0.013236936323248027), (1394, 0.013227020151103375), (496, 0.013213140341813572), (2545, 0.01320520971911701), (1816, 0.013172898634210867), (88, 0.013160740228579148), (309, 0.013158553522904825), (544, 0.013155856014536003), (1945, 0.013152626665631599), (510, 0.013138246725994718), (2565, 0.013133252359265046), (4498, 0.013115192310114347), (1158, 0.013110233336267171), (922, 0.013107600309324369), (69, 0.013096123772620287), (3860, 0.013093309874736668), (2184, 0.01308928721035581), (3873, 0.01306343699334073), (4128, 0.013031258796615475), (1234, 0.01302698210287648), (716, 0.013006963768098116), (1508, 0.012999878099428111), (3894, 0.01299521629382468), (3874, 0.012990113312457514), (2170, 0.012974664636184081), (4290, 0.01296863908687858), (782, 0.012968414185696059), (710, 0.012932620020610356), (901, 0.012932462593795569), (2151, 0.012929962649357578), (1107, 0.01292321297120443), (3297, 0.012896687710236257), (2577, 0.012892105433867292), (184, 0.0128842858691592), (4251, 0.012841729968019007), (791, 0.012810700114410382), (568, 0.01280994803630811), (574, 0.012804575657222893), (803, 0.012802796831346995), (560, 0.012791174424136256), (4726, 0.012783948503834372), (696, 0.012783824218099458), (4060, 0.012782412991331525), (2266, 0.01277995407460208), (78, 0.01273493960364531), (59, 0.012701710598774082), (815, 0.012695822379461779), (2493, 0.012691432719456004), (24, 0.012687691446279889), (658, 0.012685818881652697), (436, 0.012663594302292167), (4076, 0.012620769830512617), (3659, 0.012602077977398882), (990, 0.012599338355061798), (676, 0.012592516453752083), (824, 0.012584249840700312), (741, 0.012567200507292854), (3183, 0.012552388986601095), (383, 0.012549485592740498), (1200, 0.012549401059266895), (2856, 0.01254097419878015), (2114, 0.012535867700073946), (2909, 0.012530645020032588), (4651, 0.012523283645725745), (3537, 0.012514366983336389), (2587, 0.012483801795857728), (4647, 0.012470607190215), (2155, 0.012464213028244648), (3468, 0.012461778915159306), (1898, 0.012459642789759619), (3554, 0.012458641170964098), (788, 0.012446165972582343), (1506, 0.012443484830891532), (3777, 0.0124290164986357), (412, 0.01241549718436295), (1271, 0.01239604844726545), (2495, 0.012390892533730715), (2033, 0.012385903031184546), (856, 0.012351658158247328), (858, 0.012349781857532525), (4756, 0.012335047021714103), (1695, 0.012331510076906966), (3800, 0.012328125344037166), (3430, 0.012308157965370463), (2140, 0.012292654284435843), (2313, 0.012291642692434256), (531, 0.012267639872890913), (565, 0.012263400871170433), (3591, 0.012261053219191267), (2978, 0.012257902970029004), (464, 0.012253733093818301), (342, 0.012241114959397843), (4509, 0.012226061756245745), (535, 0.0122104067349454), (423, 0.012196127282904872), (2509, 0.012195945117119763), (591, 0.012185557626245236), (418, 0.012179375505913725), (3996, 0.012164389481492661), (2406, 0.012159831987719206), (4787, 0.012139686408009973), (776, 0.012129693370509046), (3539, 0.012126202117839543), (1711, 0.012124335589187912), (163, 0.012115219758200084), (4203, 0.012112919573177823), (661, 0.012111347050926872), (4030, 0.012109878756668498), (64, 0.012109315166998574), (1106, 0.012102367740543102), (2686, 0.012099103470225685), (116, 0.012089923688028543), (311, 0.012039428895484662), (460, 0.012029671727647974), (1423, 0.0120291178557248), (25, 0.011992878106901545), (92, 0.01198907754471337), (2997, 0.011983587544598598), (2298, 0.011978292578688111), (2648, 0.011975715026161713), (4264, 0.011966449399710432), (4135, 0.011964024047630004), (610, 0.011957030535427147), (799, 0.011954942650205296), (593, 0.011954498254744771), (4724, 0.01195346281374232), (2085, 0.011934610553356421), (1684, 0.011933509764208003), (2416, 0.011930587863036005), (3279, 0.011930083148878048), (249, 0.01192693110444124), (1124, 0.01192209212408989), (3767, 0.011921699493701749), (1858, 0.011920454922178293), (3126, 0.011920401824567916), (1842, 0.011916738578149485), (1751, 0.011895893275486829), (143, 0.01189270354718888), (2533, 0.01189130033753156), (2835, 0.011884596060961398), (892, 0.01188187267711556), (1773, 0.011876042589780388), (735, 0.0118439056690826), (898, 0.011843257079488368), (234, 0.011835728216188723), (931, 0.011833927377992165), (435, 0.011833857043280415), (413, 0.011828713840671882), (1806, 0.011817557623290323), (3364, 0.011799250477687685), (2438, 0.011796847222959374), (899, 0.011792427142831447), (4224, 0.011791457337724787), (532, 0.011791228932105973), (1560, 0.011789411274863064), (4070, 0.011780537124652102), (164, 0.011772518500216217), (1865, 0.011771531076014924), (1603, 0.01176869470665682), (312, 0.011766937497559964), (2792, 0.011761977100076707), (3229, 0.011750607106531415), (197, 0.01174649645821628), (1917, 0.011743138110664205), (953, 0.011735380611047943), (712, 0.011730320732203191), (4246, 0.011727936898153903), (1672, 0.011724978246408356), (672, 0.011724512633092791), (1452, 0.01171926749003992), (1599, 0.011713601867454215), (3035, 0.011712815845140227), (2274, 0.011703792612359654), (563, 0.011700837120595732), (186, 0.011700251276777884), (1694, 0.011699595578112901), (1682, 0.011697457245191136), (268, 0.011691806394839459), (2464, 0.011687521994673976), (1907, 0.011686622886978183), (904, 0.011685013354473429), (1928, 0.0116808632782195), (935, 0.011674549231767415), (1428, 0.011668056094637365), (2458, 0.011656560922896565), (3136, 0.01165383542390512), (820, 0.011635310404910613), (2181, 0.011633523284605643), (2606, 0.011631777119387648), (3516, 0.011629636806656634), (3233, 0.011626870848904071), (4015, 0.011621892482519297), (3763, 0.011616179564654706), (4315, 0.01161288073226011), (1402, 0.011610176275820458), (4162, 0.011608167453736558), (2753, 0.011604263510487177), (1055, 0.011603775649664014), (276, 0.011599856212197397), (245, 0.011599773684912967), (2598, 0.0115826237441576), (3004, 0.011567524629257675), (1322, 0.011562813730636957), (3642, 0.011554893553604869), (1976, 0.01155058015277675), (967, 0.01154889905370968), (810, 0.011530474714580484), (211, 0.011518125085346878), (3658, 0.011512713702317967), (3671, 0.011510596310752984), (154, 0.011499755007363098), (1459, 0.011487880049166265), (3919, 0.011461865108637295), (3381, 0.011456908102694062), (1915, 0.011455046225795148), (1893, 0.011454024844821862), (4665, 0.011445271822534657), (1331, 0.01144233575882497), (2108, 0.011375229435156632), (3664, 0.0113743302493649), (1367, 0.011360770538684593), (4291, 0.011360072270012357), (3012, 0.01134734899613609), (1446, 0.011346876083008856), (2581, 0.011345094524211093), (459, 0.011336408098815334), (4593, 0.01133226294862009), (4022, 0.011330717437633241), (2166, 0.011329740817296239), (302, 0.011319701905392315), (1411, 0.011318607645380148), (2803, 0.011306918971899397), (258, 0.01130029684647489), (1078, 0.011298160347115359), (4380, 0.011290723705635122), (517, 0.011286378625472928), (2439, 0.011279855846192321), (473, 0.011274357085292938), (2333, 0.01126329128894745), (3424, 0.01124415077478982), (90, 0.011226455824495761), (1337, 0.011208199038841115), (2305, 0.011195160369905394), (3237, 0.0111784842729045), (1082, 0.011175901462907582), (1619, 0.011163575044763865), (2568, 0.011155306006272172), (2530, 0.01115125499013428), (578, 0.011144400059405807), (231, 0.011142887299235231), (555, 0.01113641639786706), (2696, 0.011126796360691337), (1449, 0.011110864988970045), (1374, 0.01110197599998384), (172, 0.011093067989455), (516, 0.01107871906969303), (1287, 0.011078536612373084), (4407, 0.011072333078378674), (4215, 0.0110381905132961), (3448, 0.01103198330404784), (636, 0.011030304664695793), (15, 0.011028690492438572), (289, 0.011028320538390361), (175, 0.011016334366404474), (3822, 0.011005771992309635), (341, 0.01100525837877188), (2540, 0.01098338586163572), (4071, 0.010979631635034758), (583, 0.010979628554380358), (406, 0.010979240751469176), (3706, 0.010961797604112646), (2382, 0.01095818514334701), (358, 0.010947587914734538), (100, 0.010944189924921903), (3928, 0.01093879324953909), (3274, 0.010937812495067756), (2499, 0.010928077132508335), (1496, 0.01092472479024723), (324, 0.01091756505894795), (4158, 0.010915189862089355), (2311, 0.010896090582567847), (2228, 0.010884531444090286), (195, 0.010872208269338964), (470, 0.010857667554175353), (349, 0.010850348537430705), (2702, 0.010842318908330227), (4722, 0.010836100633552295), (426, 0.010824025060179675), (3696, 0.01081963084318426), (3896, 0.010818975549841568), (1451, 0.010815943695921277), (2057, 0.010814908376204671), (254, 0.010782408348516487), (1725, 0.010776207049847431), (118, 0.010766834551882917), (3442, 0.010764234923976171), (1495, 0.01076386438388318), (1134, 0.010759589148232015), (416, 0.010752683575190795), (3574, 0.010735533599959825), (3198, 0.01072579961373648), (2127, 0.01071708167161998), (2845, 0.010709819047006155), (2826, 0.010698291620248828), (235, 0.010680310902688556), (3579, 0.010680076175937945), (63, 0.010675005667869174), (4190, 0.010667093501917883), (1341, 0.010661687954224768), (2306, 0.010659523956071703), (4200, 0.010645476098596705), (2185, 0.010637183429549652), (161, 0.010622447199509189), (666, 0.010621590598917964), (4563, 0.01061669299918515), (3907, 0.010610709768543702), (318, 0.010606576142323514), (3252, 0.010603294281900657), (336, 0.010595603053537251), (346, 0.010593548403504127), (1974, 0.010588622003298543), (2706, 0.010585891777433255), (781, 0.010577704498961706), (3895, 0.010567561985962825), (792, 0.010559019651056656), (117, 0.010556745384389632), (2651, 0.010554338925188483), (1800, 0.010551757795253535), (2547, 0.01054936317755927), (1594, 0.010533752499146726), (3631, 0.010507107573316474), (2017, 0.01048908456818081), (1368, 0.010487087984307107), (3015, 0.010486756972692957), (1822, 0.010463167581774), (405, 0.010432401314489288), (4087, 0.010429028465877375), (995, 0.01042810256677474), (1906, 0.010427353217951154), (3013, 0.010425526634804394), (2934, 0.010399620815686433), (1821, 0.010396567213794523), (3281, 0.010395530672996535), (3966, 0.010390728161941178), (3764, 0.010386737134334894), (2206, 0.010386407436767761), (1244, 0.01037095002330506), (1481, 0.010360205911632217), (1734, 0.010343282923875895), (340, 0.010331967833861734), (411, 0.01033102230278332), (1404, 0.010301806876596558), (2515, 0.0103012139888082), (3169, 0.010295466597620526), (443, 0.010281503180311726), (1549, 0.010258199490974751), (407, 0.010255340861720261), (417, 0.010255016276196027), (3402, 0.010216273050436797), (686, 0.010176368158029945), (800, 0.010159319956907926), (488, 0.010141621966185968), (3214, 0.010138989760780393), (1900, 0.010126058048474289), (4535, 0.010119360202017749), (4658, 0.010112949362283187), (1456, 0.010100103183537221), (1650, 0.010097713056033986), (364, 0.010082889702766515), (2258, 0.010061352754772452), (742, 0.01005934954643625), (4134, 0.010027891605657127), (1578, 0.00997327785856848), (528, 0.009963198441115238), (3511, 0.009952386916946474), (1439, 0.009927823315652146), (1643, 0.00992469599092706), (2508, 0.009921838213800807), (1817, 0.009917181233706145), (1152, 0.00991609427608343), (576, 0.009906870122008603), (4149, 0.009888374888942283), (3417, 0.009882055553340699), (1497, 0.009874653943703179), (1987, 0.009871195500252516), (2314, 0.009868566896517548), (86, 0.009860172775177905), (2263, 0.009854335606930388), (3277, 0.009850086666831731), (1942, 0.00982010561723335), (368, 0.00981699921332685), (452, 0.009815616324060913), (646, 0.009788824781419956), (471, 0.00976575194479437), (1126, 0.009764271028000064), (2465, 0.00974410834430646), (2967, 0.009697207455663128), (3845, 0.009684772383404594), (2402, 0.009668222748421438), (2019, 0.009665196340530565), (1959, 0.009621066119435851), (2357, 0.009619014720322148), (1570, 0.009579359410778454), (1993, 0.009563295275034916), (4176, 0.00953670731340605), (2628, 0.00949255085239125), (1018, 0.009490900453853365), (4364, 0.009487831446403656), (1584, 0.009432218836987073), (1878, 0.009375676616709511), (3491, 0.009323778520376424), (2294, 0.009311653403552824), (1761, 0.009295056079809398), (2556, 0.009283777835113301), (4394, 0.009132611241521768), (2884, 0.009130020667013667), (4325, 0.00910525271928848), (2366, 0.009080710255384816), (3386, 0.009060119122657225), (4782, 0.009012065693291766), (1478, 0.008991556604742478), (881, 0.008959000489577583), (2794, 0.008942049319731148), (1519, 0.008816848393460627), (1054, 0.008801504742437854), (4048, 0.008794134596357197), (2523, 0.008786971722930569), (3199, 0.008759183863607772), (2356, 0.00869835304552678), (869, 0.008680878529194731), (1624, 0.008672535072423597), (2857, 0.008627649975082847), (4027, 0.008604564853645049), (2973, 0.008598893818137391), (4482, 0.008597873018520419), (1983, 0.00859024793521698), (4730, 0.0085453076116332), (2876, 0.008493624323071563), (1190, 0.008451474086959471), (189, 0.008448534460943177), (4261, 0.008444904410944228), (1099, 0.008442773457513706), (2637, 0.008433791989798317), (3679, 0.008412997506252766), (109, 0.008398625599449119), (2507, 0.008388251240753496), (3533, 0.008372885812749122), (2231, 0.00837191208668777), (3087, 0.00835323389106167), (2872, 0.008342017054581739), (4461, 0.008341464367558907), (1969, 0.00832113484943595), (4769, 0.008298858090744007), (1474, 0.008297647104723098), (4045, 0.008284509505041877), (1732, 0.008240921600102985), (3614, 0.008202943095542078), (4369, 0.008202546304221302), (2505, 0.008197370121308794), (3394, 0.008186081978890964), (3569, 0.00818219003109959), (2001, 0.008156207677547591), (2824, 0.008155466046258721), (758, 0.008133416765647094), (2916, 0.008123994318290337), (4366, 0.008104360652699316), (1169, 0.008101439134915185), (1621, 0.008076200530950647), (2684, 0.008062747733260494), (3762, 0.008056243515394561), (1847, 0.008034775826751479), (2653, 0.00802343683849121), (3203, 0.00801346163957691), (4277, 0.00800696634634638), (1647, 0.007991657797327035), (4499, 0.007983188626016345), (971, 0.007952369199054291), (4708, 0.007949782936463163), (1724, 0.007942912404666862), (3359, 0.007913843790561925), (4656, 0.007911136609321303), (942, 0.007907460152172132), (2134, 0.007901028623211131), (137, 0.007867152772805443), (2330, 0.007860349104361317), (3376, 0.007857434189675144), (1350, 0.00785424421758941), (3955, 0.007847459821656489), (1267, 0.007844012891161215), (2088, 0.007833136976262617), (4496, 0.00782168345965425), (1227, 0.00782072631081691), (763, 0.007818350494365363), (2202, 0.007811268651869155), (1194, 0.007808475111773278), (2329, 0.007808161314031067), (2032, 0.007800220529054711), (493, 0.007795749262404549), (1962, 0.007786649028992518), (4678, 0.007785619213247451), (3558, 0.007766181821939187), (1203, 0.0077475943788331975), (2933, 0.007746483120250365), (2364, 0.007738457322807319), (2214, 0.007735779144251898), (779, 0.007727475407103089), (2640, 0.00772426179169265), (3055, 0.007705024566130461), (785, 0.007702389507937526), (1048, 0.007699250326229587), (2487, 0.007685105361726076), (871, 0.007659925088219419), (778, 0.0076536627391179035), (906, 0.007650188670897142), (4355, 0.007646287683919456), (2880, 0.0076444998174124345), (2000, 0.007639264794155004), (2284, 0.007638594585673071), (2197, 0.007624989227058124), (287, 0.007623784685989497), (4298, 0.0076098846469017075), (2810, 0.00760767852634569), (1651, 0.007599368451901439), (1929, 0.007595776484425158), (2249, 0.007594228426125208), (398, 0.0075916790535429345), (1468, 0.007588082682231285), (3987, 0.007583222048877848), (2720, 0.007578492807029634), (2867, 0.007576404376743857), (1288, 0.0075643381910790045), (4256, 0.007558877070020198), (3436, 0.0075477238767060195), (1781, 0.007538978675783073), (1794, 0.0075344046782947136), (3714, 0.007532840627326728), (4161, 0.007528796053867119), (1300, 0.007526478417426736), (1113, 0.007519995465520229), (3437, 0.007517397978699046), (1253, 0.00750272844345356), (670, 0.007501182484224933), (554, 0.007499890869118819), (3734, 0.007496312619133292), (384, 0.007493306861647004), (1336, 0.007490197420472984), (1565, 0.007482097905304812), (367, 0.00747576835473832), (4479, 0.007466014075107472), (2061, 0.007447174506062891), (1240, 0.007447171542474943), (1739, 0.007436760698603551), (3567, 0.0074354145022304105), (3472, 0.007434860725430322), (4281, 0.007429930563572449), (1540, 0.007426227934064207), (2473, 0.007424763283802455), (1701, 0.007419504206187894), (4631, 0.007400469216769061), (441, 0.007391164748961878), (540, 0.0073842473037457656), (1388, 0.007381322511778726), (3059, 0.0073776484505758315), (2220, 0.007367812249370369), (3612, 0.0073656397612353675), (910, 0.007360911196480641), (883, 0.007352757755258377), (2871, 0.0073456308532495445), (2791, 0.007340368278600117), (1582, 0.007338103403890017), (3238, 0.007332278389495502), (1696, 0.007332185923882435), (2457, 0.007326019782184809), (750, 0.007319206080557766), (1961, 0.00731708844414792), (2425, 0.00731321555843685), (3683, 0.007308794512030614), (1667, 0.007307920188250363), (4320, 0.007306357034623327), (3322, 0.007304725639331066), (1182, 0.007297669806237394), (2836, 0.007291614246819303), (660, 0.0072845026181713735), (4527, 0.007280628701665752), (2800, 0.007280318454523515), (1123, 0.007277270251126821), (638, 0.007272489704343063), (3582, 0.0072657037091215385), (3447, 0.00726090686263819), (1157, 0.007259075904183086), (2534, 0.007251113366591384), (4720, 0.007244588722449311), (674, 0.007241624875364056), (1937, 0.007241389848192729), (2501, 0.007233299379082137), (3693, 0.0072296979974270995), (548, 0.007221371685472193), (3345, 0.007215237812429245), (1835, 0.007211196618737704), (1780, 0.00720714916883051), (2961, 0.007206005470407655), (4163, 0.00720150091489564), (2525, 0.007198370276012945), (2584, 0.00719560739503769), (4222, 0.007185751846979932), (3840, 0.007182351448125081), (2728, 0.007181713677514774), (2359, 0.00716652930059067), (1187, 0.0071611421178461795), (1313, 0.00715669345430887), (4408, 0.007153781019498347), (2737, 0.007143547510173059), (1328, 0.007143241397142324), (1896, 0.007126891897179239), (1379, 0.007126756191810207), (642, 0.007122080540763841), (3195, 0.007121017404977064), (4014, 0.007120453048631277), (2966, 0.0071147236741234375), (3224, 0.007107678000993387), (4237, 0.0071020139714108145), (2099, 0.007097651152676637), (1038, 0.007091549551626296), (1263, 0.007085026835601728), (3923, 0.0070705060638861315), (3373, 0.007068667798440208), (1927, 0.007065995032605323), (1859, 0.007064020590160634), (4733, 0.007059055771292286), (1315, 0.007047169093826116), (2408, 0.007044768790612776), (3629, 0.007040229940041909), (1597, 0.007039037883503486), (2927, 0.007035641488924461), (2105, 0.007023203880727198), (3508, 0.007023179844703203), (1503, 0.007019451598786644), (1940, 0.007019253767859471), (4017, 0.007018335087722347), (3912, 0.007015122801130875), (1062, 0.007010188594304122), (1982, 0.00699864667108639), (1023, 0.00699356035882084), (3313, 0.0069863990627952195), (1221, 0.006983559537122283), (2383, 0.006983238853662525), (3159, 0.006973514827281053), (1164, 0.006972080547153099), (1007, 0.006956690775575682), (1218, 0.006953823057823603), (2931, 0.006947057513689999), (2238, 0.006945041384677558), (2334, 0.00694325829152833), (874, 0.006941559381412215), (1722, 0.006922909487148237), (4393, 0.006921818472006195), (4432, 0.006914834617069524), (3812, 0.006913072537526002), (2899, 0.006903978280940674), (2360, 0.006903674821397114), (2671, 0.006902878602495622), (2282, 0.006901138730194808), (1172, 0.006889216384752854), (3628, 0.006887038991848763), (2940, 0.006882262846505195), (802, 0.006875379086434515), (2974, 0.006874459073851102), (2222, 0.006870666360390815), (3695, 0.006866153073218453), (3082, 0.00685495869059101), (3374, 0.006853384950867704), (2039, 0.00684624230345974), (2478, 0.006845301272294696), (3123, 0.00683795691258641), (3509, 0.006833672677281732), (1397, 0.006827938108500316), (3068, 0.006820639364720781), (947, 0.006819177258910543), (124, 0.006809819034220973), (1357, 0.006802349382514707), (4276, 0.0068021609564453845), (752, 0.0067990217110605235), (2960, 0.006797919673053277), (1231, 0.006794473930151061), (218, 0.00679395018396454), (313, 0.006791415046871923), (4450, 0.006791102801944041), (3284, 0.006787379429660176), (2055, 0.006780542943820945), (4448, 0.006778498024577327), (2404, 0.006770813979525198), (166, 0.006769153858767189), (2188, 0.0067687644545912865), (4337, 0.006766585255188569), (3291, 0.006761556014527867), (3943, 0.006751197754039459), (4321, 0.006751119253640819), (2972, 0.00674868505171267), (600, 0.006745789120370669), (1838, 0.0067443747726917995), (2589, 0.006742621589801326), (3276, 0.006736200197336042), (1589, 0.006735164364263412), (1769, 0.006729240898526641), (599, 0.006724021203851278), (4111, 0.006723088087315239), (4258, 0.006707757124908905), (1745, 0.0066907581472302885), (3837, 0.006687513979862668), (515, 0.006680464941339822), (3599, 0.0066659150310241335), (592, 0.006663814658897122), (3626, 0.006653647711839076), (1030, 0.006652249911683234), (3170, 0.006646677688195386), (4497, 0.0066366254742022185), (1148, 0.006625021390042083), (4127, 0.006615853560736873), (4397, 0.006612694626674484), (3924, 0.006602271534693029), (4734, 0.006601157057260803), (2387, 0.006586616678159039), (2399, 0.00658304934996629), (2358, 0.006577703021935202), (2795, 0.006575984234937924), (89, 0.006573239721853152), (534, 0.006569776105880267), (4554, 0.006564798015713958), (1861, 0.006562428889588873), (4381, 0.00655823055069696), (58, 0.006547926439512639), (1527, 0.006547850527666402), (2268, 0.006543517920021665), (4666, 0.00654141170587668), (518, 0.006536571134028731), (2159, 0.006532155455968683), (4425, 0.006527820046048388), (4143, 0.006525396998088595), (678, 0.0065224601264240786), (1978, 0.006521892830925112), (1114, 0.0065081922831183355), (1986, 0.006497847292256205), (3623, 0.0064961915326536635), (56, 0.006486596349537547), (985, 0.006483497086436198), (2047, 0.006482981674756956), (3051, 0.00647824852885981), (809, 0.0064782170385441085), (2703, 0.006474757522006202), (3972, 0.006466286082958466), (839, 0.006460829195795504), (3774, 0.006459284026260001), (2205, 0.006458705310212829), (3, 0.006457320533567938), (345, 0.006446067322726813), (1528, 0.006443081580951261), (4187, 0.0064422330720089694), (1897, 0.00643995207718548), (1607, 0.0064394803413468), (1479, 0.006436260917898378), (2596, 0.006427587651006498), (1417, 0.00642384875687859), (4704, 0.006421099469457418), (4620, 0.0064198830255868845), (866, 0.006419437549799853), (283, 0.006414800839326403), (3560, 0.00641408007818176), (47, 0.00640294946809838), (4287, 0.006399807116394414), (219, 0.0063992644355649235), (3306, 0.006398352019954039), (3266, 0.006395769202752392), (2456, 0.006395740640793964), (437, 0.006394073147867368), (4799, 0.00639164302700071), (3154, 0.006386023848349837), (85, 0.006383466461491787), (732, 0.006380868300344743), (3832, 0.0063808340477059765), (3620, 0.0063796993209675025), (1933, 0.0063743638803547805), (1727, 0.006369226121203586), (3273, 0.006363482961258099), (3988, 0.006355700213003846), (2510, 0.006354226487114833), (2822, 0.006337877906092549), (4557, 0.006335073877225739), (2780, 0.006328970537927717), (433, 0.006323552060611523), (4209, 0.006322061293547971), (3021, 0.006321303339321649), (2207, 0.0063211207928837625), (4202, 0.006319620523101497), (425, 0.006314244164880221), (213, 0.006313775762409436), (447, 0.006309913734668896), (1209, 0.006305109976620051), (2122, 0.006303244031507219), (2101, 0.006302647245437624), (4460, 0.006300535811254108), (3128, 0.006300018794761726), (466, 0.006299426217296248), (2773, 0.006295843880477081), (4546, 0.006295206116276796), (3414, 0.006293394453988637), (2971, 0.006289214701839841), (4735, 0.006284535836710304), (1020, 0.006283219828807435), (3485, 0.006280209626614116), (539, 0.0062784681237288715), (2309, 0.006275363678442839), (1215, 0.006275355535022844), (2730, 0.00627269100461602), (530, 0.0062689028419987735), (3882, 0.006265876408030198), (1860, 0.006258316832554598), (122, 0.006256757682505014), (984, 0.006253958518641145), (3650, 0.006249123164615291), (4062, 0.006248134498630651), (1398, 0.00624527537287465), (3263, 0.006240467957684695), (952, 0.006238005507570066), (3332, 0.006234444476630812), (2667, 0.006233945448343315), (1733, 0.006233748602974246), (1370, 0.0062301259154602315), (1622, 0.006227740222773524), (1256, 0.0062268526496582445), (2626, 0.006226674120312371), (3307, 0.006224581616394823), (1920, 0.006220257345879832), (3522, 0.006220023471510361), (2466, 0.0062180410324016435), (601, 0.006211663139157944), (2283, 0.006209256695768332), (3993, 0.00620879718781194), (2154, 0.006204759607462915), (3144, 0.0062034337815853186), (2646, 0.0062014113682381964), (180, 0.006198921539303079), (3358, 0.006195027238228676), (2212, 0.006191287815794881), (274, 0.006190879694189968), (3412, 0.006188705276245659), (1561, 0.006188566077014052), (4648, 0.006182779137025248), (1269, 0.006174557413302188), (2394, 0.006167445684151693), (53, 0.006167207603568929), (4004, 0.006164009882267763), (339, 0.006161253147313548), (4283, 0.006160574407676928), (1342, 0.006159496580122134), (4383, 0.006144677443990256), (1505, 0.006142172539283164), (1273, 0.006139759598330582), (3326, 0.006136648997327986), (4061, 0.006136336903365294), (3844, 0.006134105905323674), (3819, 0.006132748492098991), (1133, 0.006130736717982637), (242, 0.006129920800246976), (1850, 0.006126335789010788), (3018, 0.006125969491009038), (415, 0.00612382470441871), (655, 0.006117795256655893), (731, 0.006114250197945714), (396, 0.006109989604718632), (111, 0.0061076468746325925), (1894, 0.006106705232319003), (1636, 0.006106681663395659), (1425, 0.0061055047184866585), (2300, 0.006105169650438189), (158, 0.006100958992733588), (3227, 0.006098442990758208), (82, 0.0060977640495930635), (3576, 0.0060969311010155985), (193, 0.00609340850199652), (2164, 0.0060931239525178794), (3756, 0.006091713652325488), (35, 0.006089692551768507), (127, 0.006089114250898006), (3361, 0.006089055162825153), (119, 0.006085703775673387), (55, 0.006084023079810927), (919, 0.006083404854374482), (157, 0.0060772392223612725), (4080, 0.0060755990185584145), (2726, 0.00607413618195529), (2444, 0.006063803495741695), (2148, 0.006060862230945887), (196, 0.006057813250929542), (4621, 0.006056403169852286), (838, 0.0060520715731322006), (1954, 0.006052050778804584), (248, 0.006051911691451664), (3724, 0.006049392053043682), (1377, 0.0060486843633241775), (3795, 0.006045221288115757), (355, 0.006044481411840384), (4072, 0.006040216899280534), (4201, 0.00603886632374772), (4117, 0.006036335530790551), (453, 0.0060319700053957995), (4093, 0.00602676305910723), (26, 0.006024661849598388), (1844, 0.006023397643334522), (3538, 0.006023274859739618), (3385, 0.00602279820249591), (3976, 0.006005370516243206), (3335, 0.006001117853125088), (3543, 0.005995214009022386), (386, 0.005995185713333775), (4230, 0.0059937202190398714), (3816, 0.005992705896273683), (222, 0.005985386040653136), (205, 0.005984405759494019), (740, 0.005977268064506324), (4223, 0.005976787395203149), (2320, 0.005975667367794311), (3849, 0.005975373284847774), (209, 0.005960118726966716), (3826, 0.0059597080415629165), (3089, 0.005956607638966259), (140, 0.005955727510347577), (2442, 0.005955472341245513), (83, 0.0059552650794328895), (2156, 0.005955249802508452), (290, 0.005955037158821003), (807, 0.005953661695665991), (356, 0.005953033944058453), (1285, 0.0059515243442949265), (1826, 0.005951094514128344), (3523, 0.005950339700045792), (654, 0.005949989762098206), (1143, 0.005946074121240462), (818, 0.005944776255890093), (609, 0.0059431939281644015), (1118, 0.005938676736143842), (1628, 0.005937899094701305), (828, 0.005933062199679582), (2250, 0.00593234752006151), (1083, 0.0059317545061599785), (1659, 0.005928822933483213), (863, 0.005925193021597937), (229, 0.005914475830012628), (1070, 0.005913260976169557), (2002, 0.0059118726812351675), (2093, 0.0059107818835608585), (4772, 0.005909862136057049), (657, 0.005907894310126049), (993, 0.005905464533828109), (1284, 0.005903248810208366), (480, 0.005898990299790543), (65, 0.005896949865276467), (1956, 0.005893935115870435), (1254, 0.00589357186879743), (511, 0.005892736688788428), (3316, 0.005885426657878201), (1076, 0.005882107539024157), (1872, 0.005879530183972845), (3876, 0.005875784604562061), (1434, 0.005873708676350895), (1633, 0.0058726007603864564), (3689, 0.005871619230224029), (645, 0.00586708103053683), (252, 0.005866131370826006), (3725, 0.00586573793652152), (240, 0.005864745453450729), (4465, 0.005863710013917691), (1302, 0.005862657842549277), (1272, 0.005862381281687074), (2022, 0.0058619945576711295), (188, 0.005861390712290811), (1699, 0.005859084005695577), (1073, 0.005857554481169477), (3142, 0.005851849512281939), (1990, 0.0058517465983567735), (702, 0.005839543948383526), (7, 0.005837358717098844), (303, 0.0058337926594913565), (834, 0.005833650442104955), (76, 0.005831280930591424), (1880, 0.005829437067933079), (236, 0.005827119510869209), (3842, 0.005826135246514067), (1868, 0.005824172955132909), (622, 0.0058238619353104286), (4623, 0.005823368350783841), (4549, 0.005820177153230975), (553, 0.005819702361243837), (4349, 0.005815629083657513), (1515, 0.00581460015732005), (74, 0.005809031374233591), (3545, 0.005808179519106656), (523, 0.005807652002438612), (753, 0.005807261513109878), (873, 0.005805290770991064), (747, 0.0058051487392640246), (979, 0.0058011150806799965), (33, 0.005801089457404634), (1395, 0.00579511171409098), (2412, 0.005793992105839099), (2775, 0.0057911853973837074), (1991, 0.005790911220135234), (804, 0.005784518274993878), (28, 0.005783838859717596), (2380, 0.005783395995685362), (2295, 0.005780724612361898), (956, 0.0057782663424688855), (594, 0.005775801430781121), (3799, 0.005774931182130506), (277, 0.0057729022524816), (2542, 0.005770224010212568), (108, 0.005767493140189861), (659, 0.005764057278258306), (204, 0.005762642258999581), (982, 0.005762391705547411), (3672, 0.0057618438094338194), (1757, 0.00575849729822452), (1741, 0.005758031081854834), (1445, 0.00575781384543054), (495, 0.0057538530763307765), (2046, 0.005753216920724269), (4182, 0.005751575520515028), (508, 0.005746190734579881), (1339, 0.005740596216607884), (3463, 0.00573759036227823), (1226, 0.005736761047926788), (3962, 0.005736585596870045), (1324, 0.005732814108573461), (1790, 0.005729938307840549), (62, 0.005726039500033604), (685, 0.005724914691498216), (755, 0.00571927236070044), (1510, 0.005708334376212019), (2400, 0.005708052471490011), (607, 0.005705136816534917), (1617, 0.005704739262838956), (1792, 0.005703400511455047), (169, 0.005701640224073569), (260, 0.005700847109258719), (2471, 0.005700061569696355), (377, 0.005700002015137122), (737, 0.00569836287854234), (257, 0.005697512022135103), (478, 0.005696493207078588), (1910, 0.005693727858531668), (1740, 0.005692486511736656), (700, 0.005688589062632626), (823, 0.005685917069187833), (2625, 0.005681381571397895), (808, 0.005680483099883867), (70, 0.005678149040792771), (1610, 0.005676028875125207), (1419, 0.005675484783126869), (3040, 0.005674362611993892), (844, 0.005671737067584961), (3205, 0.005671572665414895), (3318, 0.005671345599122769), (424, 0.005670397567190816), (653, 0.00566767055869055), (310, 0.0056673717459596986), (432, 0.0056605156781193095), (3260, 0.0056604743259050004), (402, 0.005659922945444552), (3965, 0.0056584700460469714), (1486, 0.005650114215711546), (1470, 0.005648513673642926), (1615, 0.005646380717949624), (1319, 0.005645438378393994), (2785, 0.005642016553924272), (850, 0.005636593535280301), (933, 0.005635691760569751), (4626, 0.00563274293796196), (389, 0.005628719345012436), (1047, 0.005627053281154633), (361, 0.005625526046632457), (151, 0.005624959333449493), (455, 0.005623985357207227), (263, 0.005622211170978514), (3707, 0.005618803910767898), (2293, 0.005618078527186767), (724, 0.005614715073507073), (1279, 0.005613286985969939), (2827, 0.00561306000181248), (2812, 0.005609320563044306), (4778, 0.005607688836915918), (507, 0.0056076333716300235), (945, 0.005607047308076803), (1596, 0.005606266940222855), (2645, 0.005595047181008936), (3691, 0.005594326925393353), (1720, 0.005594134144412308), (307, 0.005593829955603054), (91, 0.005593377226538947), (604, 0.005589997839277485), (1294, 0.005588073200096371), (1742, 0.005587090740295145), (149, 0.005582431880421539), (2644, 0.005581194339777631), (446, 0.005579405111985085), (2492, 0.005574878879144011), (150, 0.0055737581296204835), (951, 0.005571816149906713), (41, 0.005570994803896289), (2918, 0.005565879461612248), (2296, 0.005564375599132032), (490, 0.005563644547538762), (93, 0.005561572249143033), (182, 0.005557078100582628), (3336, 0.005556396727786446), (2277, 0.005555892981484109), (3290, 0.005555612639792449), (99, 0.005551688925953307), (2995, 0.005550487444715094), (224, 0.00555040193572121), (3062, 0.00554812196228069), (888, 0.005547750776223018), (3740, 0.0055451335195927645), (4042, 0.005540436016346115), (821, 0.005536861623922185), (16, 0.005535056910837656), (457, 0.005533426624245221), (1853, 0.005532843557252347), (777, 0.0055320576100822486), (634, 0.005530620930935097), (3606, 0.005529509968370639), (18, 0.005525360643470355), (590, 0.005521016122825686), (1195, 0.005519766751282466), (2075, 0.005518139086299382), (2959, 0.005517732128872039), (3382, 0.005514575915738915), (2712, 0.005513905511839688), (1457, 0.005507950340109965), (992, 0.0055065051560742335), (212, 0.005504891589606004), (988, 0.005503114716263124), (790, 0.005499731544900487), (2398, 0.005490629566423111), (2683, 0.005489548085823743), (489, 0.005487959328066041), (36, 0.005487298957648992), (1702, 0.00548698113548945), (295, 0.005485619868676779), (640, 0.005485246744891294), (2129, 0.005483400204996921), (3942, 0.005483266125780869), (1465, 0.005481416914652935), (1027, 0.005480536252209262), (2196, 0.005476234466878085), (1815, 0.005474612062092408), (75, 0.005473469896876088), (3828, 0.005469798742909054), (2244, 0.005468611811318597), (392, 0.005466081752995495), (694, 0.005462855843157087), (3749, 0.005460788417887677), (613, 0.005460558406039786), (134, 0.0054574219317251186), (4388, 0.005454834771985921), (3833, 0.005453343611675635), (39, 0.005446374845063467), (1661, 0.005445240845613563), (1542, 0.005442661732556965), (1303, 0.005441900737780085), (304, 0.005441392567666632), (500, 0.0054386629761391855), (228, 0.0054373218235730485), (273, 0.005435811207252438), (152, 0.005433279773397512), (687, 0.00543316438901678), (1491, 0.005433027549073792), (3619, 0.0054307510718022145), (2863, 0.005429471958069748), (582, 0.005428849841823207), (2386, 0.005427240857143247), (2288, 0.005425571836525673), (580, 0.0054253449576316575), (372, 0.005424611415888523), (68, 0.005423162140688091), (376, 0.005422655241220354), (1093, 0.005408382900779215), (3372, 0.005407393165558323), (880, 0.005406600145216772), (4099, 0.005400688179250959), (153, 0.005396350229402101), (1592, 0.005396052995442845), (4012, 0.005393676667471895), (1137, 0.0053920715955634), (2388, 0.005391888891150588), (3184, 0.0053916689028853685), (4275, 0.005390644393344607), (237, 0.0053889332146037985), (1188, 0.005385513672504782), (1825, 0.00538364849559916), (833, 0.005374037389337251), (3527, 0.005372759540819017), (840, 0.0053719734718543485), (920, 0.005371188990532805), (123, 0.005366921825958956), (1482, 0.0053651845094161675), (1973, 0.005362004056200431), (2558, 0.005361866538156606), (1100, 0.005359477044670857), (1573, 0.005359202021394918), (893, 0.005358454078306291), (1447, 0.005355232466567513), (2050, 0.0053548486867252935), (3848, 0.005353143316013436), (207, 0.005351755817020978), (1103, 0.00535129194580693), (216, 0.0053494646904492715), (2675, 0.005345622660049029), (1625, 0.005336853757302079), (745, 0.005334498128342497), (2389, 0.005327725327717712), (1034, 0.005324506032803542), (1635, 0.005323760003166501), (2781, 0.005320710509208759), (1645, 0.005319297787628377), (1568, 0.005317778694829009), (1096, 0.005315488956464093), (739, 0.0053141970405135245), (1664, 0.005308555233862109), (1507, 0.005302235705906488), (4339, 0.005301370698626791), (3766, 0.005299869168853446), (571, 0.005298898886481353), (285, 0.005294625069317509), (1175, 0.00529279795500083), (449, 0.005291808167842686), (2372, 0.005288037825440176), (125, 0.005283583157087617), (1431, 0.005281646276072888), (3030, 0.005279857540590881), (577, 0.00527893002694133), (456, 0.005275895153726126), (761, 0.005275513894901966), (2074, 0.00527538632080097), (27, 0.0052681790126982665), (1653, 0.005264994288673176), (3349, 0.005252851504786035), (2609, 0.005250488220729811), (2054, 0.005246065630438103), (1908, 0.0052406419873519015), (691, 0.005236872984887638), (615, 0.005233268489783547), (542, 0.00523304939070982), (203, 0.0052279617134442305), (79, 0.005225272491899447), (52, 0.005224272182335721), (1450, 0.00522227746529722), (3617, 0.005217982385127274), (291, 0.005216291389760677), (4114, 0.005215509667168898), (469, 0.005214531553561787), (2579, 0.0052141299786004494), (955, 0.005208328196052664), (147, 0.005207530478490626), (989, 0.005206175712162396), (3074, 0.005205071892187634), (139, 0.005200023017869083), (708, 0.005197972228457223), (174, 0.00519312782052823), (930, 0.005193096491374927), (1201, 0.005192806433605496), (4081, 0.005188939208035761), (1104, 0.0051862340359451415), (621, 0.005174140344319882), (1097, 0.0051728764342352344), (2195, 0.005169490530992631), (2327, 0.005167749314264759), (1361, 0.005164420463786236), (1771, 0.005163299964228863), (3518, 0.005160964320501627), (595, 0.005160712161636237), (3851, 0.005157461111342716), (2200, 0.005153770418669945), (683, 0.005144936449539919), (1848, 0.005144880642964772), (11, 0.00513746235036844), (2229, 0.005135933096703012), (2564, 0.005131767064779281), (483, 0.005131485231781481), (503, 0.0051255564068915785), (529, 0.005125369093608076), (854, 0.005124564183219663), (2194, 0.005123594575362539), (4327, 0.0051225273537076), (1079, 0.0051195927838770024), (3221, 0.005117900677466953), (1290, 0.005110620210715782), (1044, 0.005108387240568575), (3158, 0.005107370883779805), (581, 0.005106306783151034), (1765, 0.005097501982467582), (1830, 0.005090789041976424), (914, 0.005090412361705853), (1155, 0.005086453338826659), (278, 0.005085424137853095), (1513, 0.0050822613190514765), (1697, 0.005081284278765212), (973, 0.005076739735586857), (366, 0.0050744095772388064), (1056, 0.005071252292428714), (2573, 0.00506480029390577), (3305, 0.005063732745263169), (1332, 0.0050598323910381665), (4353, 0.005058112341056248), (2486, 0.00505543898844536), (1281, 0.005049224549733752), (4037, 0.005048551740370631), (1202, 0.005046649058969788), (1484, 0.005045738613329684), (3416, 0.005045622071284478), (1437, 0.005045016056569027), (1041, 0.0050407598583834135), (3259, 0.005039164242544751), (830, 0.005038010394179444), (3680, 0.005036219840429962), (3138, 0.005029549085855787), (1174, 0.005027306159830456), (950, 0.005026384967177097), (1270, 0.005022492515331885), (4077, 0.005014470303921095), (2161, 0.005014294840874797), (4316, 0.005013339895982272), (1538, 0.005010887425725722), (929, 0.005007139462287409), (680, 0.005005467623594794), (2435, 0.005001067954776943), (586, 0.005000853572537254), (2253, 0.004999673549738004), (2736, 0.004995476939149509), (1058, 0.00499408560277573), (736, 0.0049735690543633825), (695, 0.004973199103086194), (491, 0.0049731369978037645), (4402, 0.004971781201666911), (2912, 0.004970449717660697), (3309, 0.004968642966543344), (487, 0.004956105944637661), (959, 0.004950051190238332), (1827, 0.004947725176286732), (1892, 0.004947569662133139), (442, 0.004945041645601715), (4220, 0.004937635662480485), (3209, 0.004929526365544881), (308, 0.004927656355264283), (3165, 0.0049244204924972475), (2474, 0.004880244321760989), (1955, 0.004879122751589477), (711, 0.004876863967675691), (665, 0.004874704118260083), (244, 0.004869411208278981), (2681, 0.0048692739738665225), (2291, 0.004865756204831775), (475, 0.004857903182302139), (21, 0.004853496672605501), (1140, 0.004848651418427894), (1003, 0.0048453231633505435), (253, 0.004843684293465792), (1052, 0.004837460171855349), (3603, 0.004834725369437325), (2641, 0.0048286812309379906), (3477, 0.004826124746561059), (2066, 0.004825749440299475), (2602, 0.004820247053473025), (4585, 0.004818091640508551), (2860, 0.004808007744994125), (1721, 0.0047984785130437795), (300, 0.004785874191671462), (344, 0.004785688579502567), (2639, 0.0047849496477520145), (170, 0.004778633772566657), (2819, 0.004763683655095574), (4344, 0.004758863400621751), (1608, 0.004751826716385811), (51, 0.004747201832766574), (233, 0.004742706339411369), (3350, 0.004735607106106944), (939, 0.004725077141053576), (3370, 0.004722744385412215), (629, 0.0047200691550905345), (994, 0.00471794561940118), (1795, 0.00471268463525329), (2007, 0.004709417913416303), (4727, 0.004706976631151278), (513, 0.004704992170107825), (2853, 0.004703919709138431), (353, 0.004702005474727088), (1298, 0.004683012855958153), (1735, 0.004677432295765207), (3001, 0.004671459082643416), (3505, 0.004667455126461073), (2221, 0.004662604570438651), (1531, 0.004659905072630738), (3722, 0.004640650986855851), (2704, 0.004615173371484325), (2013, 0.004605806169803557), (794, 0.004594969313958896), (1517, 0.004591270805983863), (3099, 0.004587505428869752), (1286, 0.004587163723588347), (1177, 0.004584584459476686), (3231, 0.00458173781165113), (1715, 0.004573503984984292), (2986, 0.004572154296491186), (541, 0.004569488889172642), (3008, 0.004560805906448033), (3133, 0.004558848577650615), (2657, 0.004557675552651332), (4507, 0.0045561537833537094), (371, 0.004552215432566482), (230, 0.004540880236722178), (1077, 0.004538010185073257), (3162, 0.004536916926793326), (718, 0.004521064421913282), (2111, 0.004508796566194162), (3460, 0.0045042923981904355), (97, 0.004495259673948456), (2209, 0.004468783878129318), (1877, 0.004465600755753007), (3884, 0.004463196826945434), (2782, 0.004440706144000261), (3143, 0.004426877337130574), (2868, 0.0044218537610071895), (1837, 0.004401647676528268), (2806, 0.004394572013233386), (3553, 0.004190838351222991), (2016, 0.004173845666878714), (4798, 0.004146795671222328), (1008, 0.004124725737929574), (1670, 0.004047466672275045), (4701, 0.0040100206015262355), (2784, 0.003982957383353322), (1304, 0.003956017420369272), (1637, 0.003900318332594961), (2026, 0.0038988352906815403), (337, 0.003780301283530441), (4312, 0.0036566169578763673), (3596, 0.002575746635736442), (6, 0.0), (34, 0.0), (40, 0.0), (42, 0.0), (57, 0.0), (60, 0.0), (66, 0.0), (67, 0.0), (77, 0.0), (95, 0.0), (110, 0.0), (120, 0.0), (128, 0.0), (130, 0.0), (136, 0.0), (141, 0.0), (142, 0.0), (144, 0.0), (145, 0.0), (146, 0.0), (155, 0.0), (173, 0.0), (176, 0.0), (178, 0.0), (179, 0.0), (181, 0.0), (185, 0.0), (190, 0.0), (192, 0.0), (194, 0.0), (200, 0.0), (201, 0.0), (202, 0.0), (214, 0.0), (220, 0.0), (221, 0.0), (247, 0.0), (250, 0.0), (251, 0.0), (255, 0.0), (264, 0.0), (270, 0.0), (272, 0.0), (280, 0.0), (281, 0.0), (284, 0.0), (288, 0.0), (298, 0.0), (301, 0.0), (306, 0.0), (314, 0.0), (316, 0.0), (317, 0.0), (321, 0.0), (323, 0.0), (325, 0.0), (333, 0.0), (338, 0.0), (343, 0.0), (348, 0.0), (351, 0.0), (352, 0.0), (357, 0.0), (359, 0.0), (360, 0.0), (373, 0.0), (378, 0.0), (380, 0.0), (385, 0.0), (388, 0.0), (395, 0.0), (399, 0.0), (401, 0.0), (404, 0.0), (409, 0.0), (414, 0.0), (421, 0.0), (422, 0.0), (427, 0.0), (429, 0.0), (430, 0.0), (434, 0.0), (438, 0.0), (439, 0.0), (440, 0.0), (445, 0.0), (450, 0.0), (454, 0.0), (458, 0.0), (461, 0.0), (462, 0.0), (463, 0.0), (474, 0.0), (477, 0.0), (479, 0.0), (481, 0.0), (482, 0.0), (492, 0.0), (497, 0.0), (498, 0.0), (499, 0.0), (502, 0.0), (504, 0.0), (506, 0.0), (509, 0.0), (514, 0.0), (519, 0.0), (520, 0.0), (521, 0.0), (522, 0.0), (524, 0.0), (526, 0.0), (527, 0.0), (536, 0.0), (538, 0.0), (545, 0.0), (549, 0.0), (550, 0.0), (551, 0.0), (552, 0.0), (558, 0.0), (562, 0.0), (564, 0.0), (566, 0.0), (567, 0.0), (569, 0.0), (575, 0.0), (585, 0.0), (588, 0.0), (598, 0.0), (603, 0.0), (605, 0.0), (606, 0.0), (608, 0.0), (614, 0.0), (616, 0.0), (617, 0.0), (619, 0.0), (620, 0.0), (623, 0.0), (625, 0.0), (626, 0.0), (628, 0.0), (635, 0.0), (637, 0.0), (641, 0.0), (647, 0.0), (649, 0.0), (650, 0.0), (651, 0.0), (652, 0.0), (656, 0.0), (662, 0.0), (663, 0.0), (667, 0.0), (669, 0.0), (673, 0.0), (679, 0.0), (681, 0.0), (682, 0.0), (688, 0.0), (689, 0.0), (693, 0.0), (697, 0.0), (699, 0.0), (703, 0.0), (704, 0.0), (705, 0.0), (706, 0.0), (707, 0.0), (714, 0.0), (717, 0.0), (719, 0.0), (720, 0.0), (721, 0.0), (722, 0.0), (723, 0.0), (725, 0.0), (726, 0.0), (727, 0.0), (729, 0.0), (733, 0.0), (734, 0.0), (738, 0.0), (748, 0.0), (749, 0.0), (751, 0.0), (754, 0.0), (756, 0.0), (757, 0.0), (760, 0.0), (765, 0.0), (766, 0.0), (769, 0.0), (771, 0.0), (772, 0.0), (780, 0.0), (783, 0.0), (789, 0.0), (793, 0.0), (795, 0.0), (796, 0.0), (801, 0.0), (806, 0.0), (817, 0.0), (819, 0.0), (822, 0.0), (829, 0.0), (835, 0.0), (841, 0.0), (842, 0.0), (843, 0.0), (845, 0.0), (846, 0.0), (847, 0.0), (848, 0.0), (851, 0.0), (853, 0.0), (855, 0.0), (857, 0.0), (860, 0.0), (865, 0.0), (875, 0.0), (876, 0.0), (877, 0.0), (878, 0.0), (879, 0.0), (882, 0.0), (884, 0.0), (885, 0.0), (886, 0.0), (887, 0.0), (889, 0.0), (890, 0.0), (891, 0.0), (895, 0.0), (897, 0.0), (900, 0.0), (902, 0.0), (905, 0.0), (907, 0.0), (908, 0.0), (909, 0.0), (913, 0.0), (915, 0.0), (916, 0.0), (921, 0.0), (924, 0.0), (925, 0.0), (926, 0.0), (927, 0.0), (928, 0.0), (936, 0.0), (940, 0.0), (944, 0.0), (948, 0.0), (949, 0.0), (954, 0.0), (957, 0.0), (958, 0.0), (960, 0.0), (961, 0.0), (965, 0.0), (966, 0.0), (968, 0.0), (974, 0.0), (975, 0.0), (980, 0.0), (983, 0.0), (987, 0.0), (991, 0.0), (996, 0.0), (997, 0.0), (998, 0.0), (999, 0.0), (1005, 0.0), (1009, 0.0), (1010, 0.0), (1011, 0.0), (1013, 0.0), (1014, 0.0), (1015, 0.0), (1021, 0.0), (1022, 0.0), (1025, 0.0), (1026, 0.0), (1032, 0.0), (1033, 0.0), (1036, 0.0), (1037, 0.0), (1039, 0.0), (1045, 0.0), (1051, 0.0), (1057, 0.0), (1059, 0.0), (1060, 0.0), (1061, 0.0), (1066, 0.0), (1067, 0.0), (1069, 0.0), (1071, 0.0), (1072, 0.0), (1075, 0.0), (1080, 0.0), (1087, 0.0), (1088, 0.0), (1091, 0.0), (1092, 0.0), (1094, 0.0), (1098, 0.0), (1102, 0.0), (1105, 0.0), (1108, 0.0), (1112, 0.0), (1115, 0.0), (1117, 0.0), (1120, 0.0), (1121, 0.0), (1122, 0.0), (1125, 0.0), (1127, 0.0), (1128, 0.0), (1129, 0.0), (1130, 0.0), (1135, 0.0), (1141, 0.0), (1142, 0.0), (1147, 0.0), (1149, 0.0), (1151, 0.0), (1156, 0.0), (1159, 0.0), (1161, 0.0), (1162, 0.0), (1163, 0.0), (1165, 0.0), (1166, 0.0), (1167, 0.0), (1168, 0.0), (1170, 0.0), (1171, 0.0), (1173, 0.0), (1179, 0.0), (1180, 0.0), (1181, 0.0), (1184, 0.0), (1185, 0.0), (1186, 0.0), (1189, 0.0), (1196, 0.0), (1197, 0.0), (1198, 0.0), (1204, 0.0), (1205, 0.0), (1210, 0.0), (1211, 0.0), (1214, 0.0), (1219, 0.0), (1222, 0.0), (1223, 0.0), (1224, 0.0), (1228, 0.0), (1229, 0.0), (1232, 0.0), (1235, 0.0), (1236, 0.0), (1241, 0.0), (1242, 0.0), (1243, 0.0), (1248, 0.0), (1251, 0.0), (1255, 0.0), (1257, 0.0), (1258, 0.0), (1260, 0.0), (1261, 0.0), (1264, 0.0), (1265, 0.0), (1268, 0.0), (1280, 0.0), (1283, 0.0), (1292, 0.0), (1293, 0.0), (1295, 0.0), (1297, 0.0), (1299, 0.0), (1301, 0.0), (1305, 0.0), (1307, 0.0), (1308, 0.0), (1309, 0.0), (1311, 0.0), (1312, 0.0), (1314, 0.0), (1316, 0.0), (1318, 0.0), (1323, 0.0), (1325, 0.0), (1326, 0.0), (1327, 0.0), (1329, 0.0), (1330, 0.0), (1333, 0.0), (1335, 0.0), (1338, 0.0), (1340, 0.0), (1344, 0.0), (1345, 0.0), (1346, 0.0), (1348, 0.0), (1351, 0.0), (1352, 0.0), (1353, 0.0), (1354, 0.0), (1355, 0.0), (1356, 0.0), (1358, 0.0), (1360, 0.0), (1362, 0.0), (1369, 0.0), (1371, 0.0), (1372, 0.0), (1375, 0.0), (1376, 0.0), (1378, 0.0), (1381, 0.0), (1382, 0.0), (1383, 0.0), (1385, 0.0), (1386, 0.0), (1387, 0.0), (1389, 0.0), (1391, 0.0), (1392, 0.0), (1393, 0.0), (1396, 0.0), (1400, 0.0), (1401, 0.0), (1403, 0.0), (1406, 0.0), (1407, 0.0), (1409, 0.0), (1410, 0.0), (1413, 0.0), (1414, 0.0), (1418, 0.0), (1422, 0.0), (1424, 0.0), (1426, 0.0), (1429, 0.0), (1430, 0.0), (1433, 0.0), (1436, 0.0), (1441, 0.0), (1442, 0.0), (1444, 0.0), (1454, 0.0), (1455, 0.0), (1460, 0.0), (1462, 0.0), (1464, 0.0), (1473, 0.0), (1475, 0.0), (1476, 0.0), (1480, 0.0), (1487, 0.0), (1489, 0.0), (1492, 0.0), (1493, 0.0), (1498, 0.0), (1499, 0.0), (1501, 0.0), (1502, 0.0), (1504, 0.0), (1509, 0.0), (1511, 0.0), (1512, 0.0), (1516, 0.0), (1521, 0.0), (1522, 0.0), (1526, 0.0), (1529, 0.0), (1530, 0.0), (1532, 0.0), (1535, 0.0), (1536, 0.0), (1537, 0.0), (1539, 0.0), (1541, 0.0), (1544, 0.0), (1545, 0.0), (1547, 0.0), (1548, 0.0), (1550, 0.0), (1551, 0.0), (1552, 0.0), (1553, 0.0), (1554, 0.0), (1555, 0.0), (1557, 0.0), (1562, 0.0), (1563, 0.0), (1564, 0.0), (1566, 0.0), (1571, 0.0), (1572, 0.0), (1574, 0.0), (1575, 0.0), (1576, 0.0), (1580, 0.0), (1581, 0.0), (1585, 0.0), (1587, 0.0), (1588, 0.0), (1593, 0.0), (1600, 0.0), (1601, 0.0), (1602, 0.0), (1604, 0.0), (1605, 0.0), (1609, 0.0), (1614, 0.0), (1618, 0.0), (1620, 0.0), (1627, 0.0), (1629, 0.0), (1630, 0.0), (1631, 0.0), (1632, 0.0), (1634, 0.0), (1638, 0.0), (1639, 0.0), (1640, 0.0), (1641, 0.0), (1642, 0.0), (1644, 0.0), (1646, 0.0), (1648, 0.0), (1649, 0.0), (1656, 0.0), (1660, 0.0), (1662, 0.0), (1665, 0.0), (1666, 0.0), (1673, 0.0), (1676, 0.0), (1677, 0.0), (1679, 0.0), (1681, 0.0), (1683, 0.0), (1685, 0.0), (1689, 0.0), (1690, 0.0), (1691, 0.0), (1692, 0.0), (1693, 0.0), (1698, 0.0), (1700, 0.0), (1703, 0.0), (1704, 0.0), (1705, 0.0), (1706, 0.0), (1709, 0.0), (1710, 0.0), (1712, 0.0), (1714, 0.0), (1716, 0.0), (1717, 0.0), (1726, 0.0), (1729, 0.0), (1730, 0.0), (1736, 0.0), (1738, 0.0), (1744, 0.0), (1752, 0.0), (1754, 0.0), (1755, 0.0), (1756, 0.0), (1758, 0.0), (1760, 0.0), (1762, 0.0), (1763, 0.0), (1766, 0.0), (1767, 0.0), (1768, 0.0), (1770, 0.0), (1772, 0.0), (1774, 0.0), (1776, 0.0), (1778, 0.0), (1779, 0.0), (1782, 0.0), (1784, 0.0), (1785, 0.0), (1786, 0.0), (1788, 0.0), (1789, 0.0), (1791, 0.0), (1797, 0.0), (1798, 0.0), (1801, 0.0), (1803, 0.0), (1805, 0.0), (1807, 0.0), (1808, 0.0), (1809, 0.0), (1810, 0.0), (1811, 0.0), (1814, 0.0), (1818, 0.0), (1820, 0.0), (1824, 0.0), (1828, 0.0), (1829, 0.0), (1832, 0.0), (1834, 0.0), (1840, 0.0), (1841, 0.0), (1843, 0.0), (1846, 0.0), (1855, 0.0), (1856, 0.0), (1857, 0.0), (1862, 0.0), (1863, 0.0), (1864, 0.0), (1866, 0.0), (1867, 0.0), (1869, 0.0), (1870, 0.0), (1873, 0.0), (1875, 0.0), (1876, 0.0), (1881, 0.0), (1882, 0.0), (1883, 0.0), (1884, 0.0), (1885, 0.0), (1886, 0.0), (1888, 0.0), (1889, 0.0), (1891, 0.0), (1895, 0.0), (1901, 0.0), (1903, 0.0), (1904, 0.0), (1909, 0.0), (1911, 0.0), (1912, 0.0), (1916, 0.0), (1919, 0.0), (1921, 0.0), (1923, 0.0), (1924, 0.0), (1925, 0.0), (1926, 0.0), (1931, 0.0), (1934, 0.0), (1935, 0.0), (1938, 0.0), (1941, 0.0), (1943, 0.0), (1944, 0.0), (1946, 0.0), (1947, 0.0), (1948, 0.0), (1950, 0.0), (1951, 0.0), (1952, 0.0), (1957, 0.0), (1963, 0.0), (1965, 0.0), (1968, 0.0), (1971, 0.0), (1972, 0.0), (1975, 0.0), (1979, 0.0), (1980, 0.0), (1981, 0.0), (1985, 0.0), (1988, 0.0), (1992, 0.0), (1996, 0.0), (1997, 0.0), (1998, 0.0), (2003, 0.0), (2004, 0.0), (2005, 0.0), (2009, 0.0), (2010, 0.0), (2011, 0.0), (2014, 0.0), (2018, 0.0), (2020, 0.0), (2021, 0.0), (2024, 0.0), (2027, 0.0), (2028, 0.0), (2030, 0.0), (2031, 0.0), (2036, 0.0), (2037, 0.0), (2041, 0.0), (2044, 0.0), (2045, 0.0), (2048, 0.0), (2051, 0.0), (2056, 0.0), (2058, 0.0), (2059, 0.0), (2063, 0.0), (2064, 0.0), (2065, 0.0), (2067, 0.0), (2070, 0.0), (2071, 0.0), (2072, 0.0), (2073, 0.0), (2076, 0.0), (2078, 0.0), (2079, 0.0), (2080, 0.0), (2081, 0.0), (2082, 0.0), (2086, 0.0), (2087, 0.0), (2090, 0.0), (2092, 0.0), (2094, 0.0), (2097, 0.0), (2098, 0.0), (2102, 0.0), (2103, 0.0), (2104, 0.0), (2106, 0.0), (2107, 0.0), (2110, 0.0), (2112, 0.0), (2113, 0.0), (2115, 0.0), (2116, 0.0), (2117, 0.0), (2119, 0.0), (2120, 0.0), (2121, 0.0), (2123, 0.0), (2124, 0.0), (2125, 0.0), (2126, 0.0), (2128, 0.0), (2130, 0.0), (2132, 0.0), (2135, 0.0), (2137, 0.0), (2138, 0.0), (2139, 0.0), (2143, 0.0), (2146, 0.0), (2150, 0.0), (2153, 0.0), (2158, 0.0), (2160, 0.0), (2162, 0.0), (2168, 0.0), (2171, 0.0), (2172, 0.0), (2173, 0.0), (2174, 0.0), (2176, 0.0), (2177, 0.0), (2178, 0.0), (2179, 0.0), (2180, 0.0), (2182, 0.0), (2186, 0.0), (2190, 0.0), (2191, 0.0), (2192, 0.0), (2193, 0.0), (2199, 0.0), (2204, 0.0), (2208, 0.0), (2211, 0.0), (2213, 0.0), (2217, 0.0), (2223, 0.0), (2224, 0.0), (2225, 0.0), (2226, 0.0), (2227, 0.0), (2232, 0.0), (2233, 0.0), (2234, 0.0), (2235, 0.0), (2236, 0.0), (2240, 0.0), (2241, 0.0), (2243, 0.0), (2245, 0.0), (2246, 0.0), (2248, 0.0), (2251, 0.0), (2252, 0.0), (2254, 0.0), (2256, 0.0), (2257, 0.0), (2259, 0.0), (2265, 0.0), (2269, 0.0), (2270, 0.0), (2271, 0.0), (2272, 0.0), (2273, 0.0), (2275, 0.0), (2276, 0.0), (2279, 0.0), (2280, 0.0), (2281, 0.0), (2285, 0.0), (2286, 0.0), (2287, 0.0), (2289, 0.0), (2290, 0.0), (2292, 0.0), (2297, 0.0), (2299, 0.0), (2301, 0.0), (2302, 0.0), (2304, 0.0), (2308, 0.0), (2315, 0.0), (2318, 0.0), (2319, 0.0), (2321, 0.0), (2322, 0.0), (2323, 0.0), (2324, 0.0), (2325, 0.0), (2326, 0.0), (2328, 0.0), (2331, 0.0), (2332, 0.0), (2335, 0.0), (2337, 0.0), (2339, 0.0), (2341, 0.0), (2342, 0.0), (2344, 0.0), (2345, 0.0), (2347, 0.0), (2350, 0.0), (2351, 0.0), (2353, 0.0), (2355, 0.0), (2362, 0.0), (2363, 0.0), (2365, 0.0), (2374, 0.0), (2376, 0.0), (2377, 0.0), (2378, 0.0), (2379, 0.0), (2381, 0.0), (2384, 0.0), (2385, 0.0), (2391, 0.0), (2392, 0.0), (2393, 0.0), (2395, 0.0), (2396, 0.0), (2397, 0.0), (2405, 0.0), (2409, 0.0), (2410, 0.0), (2411, 0.0), (2413, 0.0), (2414, 0.0), (2415, 0.0), (2417, 0.0), (2419, 0.0), (2420, 0.0), (2421, 0.0), (2422, 0.0), (2423, 0.0), (2426, 0.0), (2428, 0.0), (2430, 0.0), (2431, 0.0), (2436, 0.0), (2437, 0.0), (2440, 0.0), (2441, 0.0), (2443, 0.0), (2445, 0.0), (2446, 0.0), (2447, 0.0), (2449, 0.0), (2451, 0.0), (2452, 0.0), (2453, 0.0), (2454, 0.0), (2455, 0.0), (2460, 0.0), (2462, 0.0), (2463, 0.0), (2467, 0.0), (2468, 0.0), (2472, 0.0), (2475, 0.0), (2477, 0.0), (2479, 0.0), (2480, 0.0), (2481, 0.0), (2482, 0.0), (2483, 0.0), (2484, 0.0), (2485, 0.0), (2488, 0.0), (2497, 0.0), (2500, 0.0), (2502, 0.0), (2503, 0.0), (2504, 0.0), (2511, 0.0), (2512, 0.0), (2518, 0.0), (2519, 0.0), (2520, 0.0), (2522, 0.0), (2524, 0.0), (2526, 0.0), (2527, 0.0), (2528, 0.0), (2531, 0.0), (2535, 0.0), (2537, 0.0), (2538, 0.0), (2539, 0.0), (2541, 0.0), (2544, 0.0), (2546, 0.0), (2548, 0.0), (2550, 0.0), (2551, 0.0), (2552, 0.0), (2553, 0.0), (2554, 0.0), (2555, 0.0), (2557, 0.0), (2559, 0.0), (2560, 0.0), (2562, 0.0), (2566, 0.0), (2567, 0.0), (2569, 0.0), (2570, 0.0), (2574, 0.0), (2575, 0.0), (2576, 0.0), (2580, 0.0), (2582, 0.0), (2585, 0.0), (2590, 0.0), (2591, 0.0), (2593, 0.0), (2594, 0.0), (2595, 0.0), (2599, 0.0), (2600, 0.0), (2601, 0.0), (2603, 0.0), (2604, 0.0), (2607, 0.0), (2608, 0.0), (2610, 0.0), (2612, 0.0), (2613, 0.0), (2615, 0.0), (2616, 0.0), (2618, 0.0), (2619, 0.0), (2620, 0.0), (2621, 0.0), (2622, 0.0), (2623, 0.0), (2624, 0.0), (2629, 0.0), (2630, 0.0), (2631, 0.0), (2632, 0.0), (2634, 0.0), (2635, 0.0), (2636, 0.0), (2638, 0.0), (2642, 0.0), (2643, 0.0), (2647, 0.0), (2654, 0.0), (2656, 0.0), (2658, 0.0), (2660, 0.0), (2661, 0.0), (2662, 0.0), (2663, 0.0), (2664, 0.0), (2666, 0.0), (2668, 0.0), (2669, 0.0), (2670, 0.0), (2672, 0.0), (2673, 0.0), (2676, 0.0), (2677, 0.0), (2679, 0.0), (2680, 0.0), (2687, 0.0), (2688, 0.0), (2689, 0.0), (2690, 0.0), (2692, 0.0), (2693, 0.0), (2694, 0.0), (2695, 0.0), (2697, 0.0), (2698, 0.0), (2699, 0.0), (2701, 0.0), (2705, 0.0), (2707, 0.0), (2709, 0.0), (2710, 0.0), (2711, 0.0), (2713, 0.0), (2714, 0.0), (2715, 0.0), (2716, 0.0), (2718, 0.0), (2719, 0.0), (2723, 0.0), (2724, 0.0), (2725, 0.0), (2727, 0.0), (2729, 0.0), (2731, 0.0), (2732, 0.0), (2733, 0.0), (2734, 0.0), (2738, 0.0), (2739, 0.0), (2740, 0.0), (2741, 0.0), (2742, 0.0), (2743, 0.0), (2744, 0.0), (2745, 0.0), (2746, 0.0), (2748, 0.0), (2751, 0.0), (2752, 0.0), (2754, 0.0), (2755, 0.0), (2758, 0.0), (2759, 0.0), (2760, 0.0), (2761, 0.0), (2764, 0.0), (2765, 0.0), (2766, 0.0), (2767, 0.0), (2768, 0.0), (2770, 0.0), (2771, 0.0), (2772, 0.0), (2774, 0.0), (2776, 0.0), (2778, 0.0), (2779, 0.0), (2783, 0.0), (2786, 0.0), (2787, 0.0), (2789, 0.0), (2793, 0.0), (2796, 0.0), (2798, 0.0), (2799, 0.0), (2802, 0.0), (2804, 0.0), (2807, 0.0), (2808, 0.0), (2809, 0.0), (2811, 0.0), (2813, 0.0), (2814, 0.0), (2816, 0.0), (2817, 0.0), (2818, 0.0), (2821, 0.0), (2823, 0.0), (2825, 0.0), (2828, 0.0), (2829, 0.0), (2830, 0.0), (2831, 0.0), (2832, 0.0), (2833, 0.0), (2834, 0.0), (2837, 0.0), (2839, 0.0), (2840, 0.0), (2841, 0.0), (2842, 0.0), (2843, 0.0), (2844, 0.0), (2847, 0.0), (2848, 0.0), (2849, 0.0), (2850, 0.0), (2852, 0.0), (2854, 0.0), (2855, 0.0), (2858, 0.0), (2859, 0.0), (2861, 0.0), (2866, 0.0), (2869, 0.0), (2870, 0.0), (2873, 0.0), (2874, 0.0), (2877, 0.0), (2881, 0.0), (2882, 0.0), (2883, 0.0), (2887, 0.0), (2888, 0.0), (2891, 0.0), (2893, 0.0), (2894, 0.0), (2895, 0.0), (2896, 0.0), (2897, 0.0), (2898, 0.0), (2900, 0.0), (2901, 0.0), (2902, 0.0), (2903, 0.0), (2904, 0.0), (2905, 0.0), (2906, 0.0), (2907, 0.0), (2908, 0.0), (2910, 0.0), (2913, 0.0), (2915, 0.0), (2917, 0.0), (2919, 0.0), (2920, 0.0), (2923, 0.0), (2924, 0.0), (2925, 0.0), (2926, 0.0), (2928, 0.0), (2929, 0.0), (2930, 0.0), (2932, 0.0), (2935, 0.0), (2936, 0.0), (2937, 0.0), (2938, 0.0), (2939, 0.0), (2942, 0.0), (2943, 0.0), (2945, 0.0), (2946, 0.0), (2947, 0.0), (2948, 0.0), (2949, 0.0), (2950, 0.0), (2951, 0.0), (2952, 0.0), (2953, 0.0), (2954, 0.0), (2956, 0.0), (2958, 0.0), (2962, 0.0), (2963, 0.0), (2964, 0.0), (2968, 0.0), (2969, 0.0), (2970, 0.0), (2975, 0.0), (2976, 0.0), (2977, 0.0), (2981, 0.0), (2982, 0.0), (2983, 0.0), (2984, 0.0), (2985, 0.0), (2987, 0.0), (2988, 0.0), (2990, 0.0), (2991, 0.0), (2992, 0.0), (2993, 0.0), (2994, 0.0), (2999, 0.0), (3000, 0.0), (3002, 0.0), (3003, 0.0), (3005, 0.0), (3009, 0.0), (3011, 0.0), (3016, 0.0), (3017, 0.0), (3019, 0.0), (3022, 0.0), (3023, 0.0), (3024, 0.0), (3025, 0.0), (3026, 0.0), (3027, 0.0), (3028, 0.0), (3036, 0.0), (3038, 0.0), (3039, 0.0), (3041, 0.0), (3042, 0.0), (3043, 0.0), (3045, 0.0), (3047, 0.0), (3049, 0.0), (3050, 0.0), (3052, 0.0), (3053, 0.0), (3057, 0.0), (3060, 0.0), (3061, 0.0), (3063, 0.0), (3065, 0.0), (3066, 0.0), (3069, 0.0), (3070, 0.0), (3071, 0.0), (3072, 0.0), (3075, 0.0), (3076, 0.0), (3078, 0.0), (3079, 0.0), (3080, 0.0), (3083, 0.0), (3084, 0.0), (3085, 0.0), (3088, 0.0), (3090, 0.0), (3091, 0.0), (3092, 0.0), (3093, 0.0), (3094, 0.0), (3095, 0.0), (3096, 0.0), (3100, 0.0), (3101, 0.0), (3102, 0.0), (3103, 0.0), (3104, 0.0), (3105, 0.0), (3107, 0.0), (3108, 0.0), (3109, 0.0), (3111, 0.0), (3112, 0.0), (3113, 0.0), (3114, 0.0), (3115, 0.0), (3116, 0.0), (3117, 0.0), (3118, 0.0), (3119, 0.0), (3120, 0.0), (3121, 0.0), (3122, 0.0), (3125, 0.0), (3127, 0.0), (3129, 0.0), (3131, 0.0), (3132, 0.0), (3134, 0.0), (3135, 0.0), (3137, 0.0), (3139, 0.0), (3140, 0.0), (3141, 0.0), (3145, 0.0), (3146, 0.0), (3147, 0.0), (3149, 0.0), (3150, 0.0), (3152, 0.0), (3156, 0.0), (3157, 0.0), (3160, 0.0), (3161, 0.0), (3163, 0.0), (3164, 0.0), (3166, 0.0), (3167, 0.0), (3168, 0.0), (3171, 0.0), (3173, 0.0), (3174, 0.0), (3175, 0.0), (3178, 0.0), (3179, 0.0), (3181, 0.0), (3182, 0.0), (3185, 0.0), (3186, 0.0), (3187, 0.0), (3189, 0.0), (3190, 0.0), (3191, 0.0), (3192, 0.0), (3193, 0.0), (3196, 0.0), (3197, 0.0), (3200, 0.0), (3201, 0.0), (3204, 0.0), (3206, 0.0), (3207, 0.0), (3210, 0.0), (3211, 0.0), (3212, 0.0), (3213, 0.0), (3215, 0.0), (3216, 0.0), (3217, 0.0), (3218, 0.0), (3219, 0.0), (3220, 0.0), (3222, 0.0), (3223, 0.0), (3225, 0.0), (3226, 0.0), (3228, 0.0), (3230, 0.0), (3232, 0.0), (3234, 0.0), (3235, 0.0), (3236, 0.0), (3240, 0.0), (3241, 0.0), (3242, 0.0), (3244, 0.0), (3245, 0.0), (3246, 0.0), (3247, 0.0), (3248, 0.0), (3249, 0.0), (3253, 0.0), (3254, 0.0), (3255, 0.0), (3256, 0.0), (3258, 0.0), (3264, 0.0), (3267, 0.0), (3268, 0.0), (3269, 0.0), (3271, 0.0), (3272, 0.0), (3275, 0.0), (3278, 0.0), (3280, 0.0), (3282, 0.0), (3283, 0.0), (3285, 0.0), (3288, 0.0), (3289, 0.0), (3292, 0.0), (3294, 0.0), (3295, 0.0), (3296, 0.0), (3298, 0.0), (3300, 0.0), (3301, 0.0), (3303, 0.0), (3308, 0.0), (3310, 0.0), (3312, 0.0), (3314, 0.0), (3315, 0.0), (3317, 0.0), (3320, 0.0), (3321, 0.0), (3323, 0.0), (3324, 0.0), (3327, 0.0), (3328, 0.0), (3330, 0.0), (3331, 0.0), (3333, 0.0), (3334, 0.0), (3338, 0.0), (3339, 0.0), (3341, 0.0), (3344, 0.0), (3346, 0.0), (3348, 0.0), (3353, 0.0), (3356, 0.0), (3357, 0.0), (3360, 0.0), (3362, 0.0), (3363, 0.0), (3365, 0.0), (3368, 0.0), (3369, 0.0), (3371, 0.0), (3375, 0.0), (3379, 0.0), (3380, 0.0), (3383, 0.0), (3384, 0.0), (3387, 0.0), (3388, 0.0), (3389, 0.0), (3391, 0.0), (3392, 0.0), (3393, 0.0), (3395, 0.0), (3396, 0.0), (3397, 0.0), (3398, 0.0), (3400, 0.0), (3401, 0.0), (3403, 0.0), (3405, 0.0), (3407, 0.0), (3408, 0.0), (3409, 0.0), (3410, 0.0), (3411, 0.0), (3413, 0.0), (3415, 0.0), (3418, 0.0), (3419, 0.0), (3420, 0.0), (3421, 0.0), (3422, 0.0), (3423, 0.0), (3425, 0.0), (3426, 0.0), (3428, 0.0), (3431, 0.0), (3433, 0.0), (3434, 0.0), (3435, 0.0), (3441, 0.0), (3443, 0.0), (3444, 0.0), (3446, 0.0), (3449, 0.0), (3451, 0.0), (3452, 0.0), (3453, 0.0), (3454, 0.0), (3455, 0.0), (3456, 0.0), (3457, 0.0), (3458, 0.0), (3459, 0.0), (3461, 0.0), (3462, 0.0), (3464, 0.0), (3467, 0.0), (3469, 0.0), (3470, 0.0), (3471, 0.0), (3473, 0.0), (3474, 0.0), (3475, 0.0), (3476, 0.0), (3478, 0.0), (3480, 0.0), (3482, 0.0), (3483, 0.0), (3484, 0.0), (3486, 0.0), (3487, 0.0), (3488, 0.0), (3489, 0.0), (3492, 0.0), (3496, 0.0), (3497, 0.0), (3498, 0.0), (3499, 0.0), (3502, 0.0), (3503, 0.0), (3504, 0.0), (3506, 0.0), (3507, 0.0), (3510, 0.0), (3512, 0.0), (3513, 0.0), (3514, 0.0), (3515, 0.0), (3517, 0.0), (3519, 0.0), (3520, 0.0), (3524, 0.0), (3525, 0.0), (3526, 0.0), (3528, 0.0), (3530, 0.0), (3531, 0.0), (3532, 0.0), (3534, 0.0), (3535, 0.0), (3536, 0.0), (3540, 0.0), (3541, 0.0), (3542, 0.0), (3544, 0.0), (3546, 0.0), (3547, 0.0), (3549, 0.0), (3550, 0.0), (3551, 0.0), (3555, 0.0), (3556, 0.0), (3557, 0.0), (3559, 0.0), (3561, 0.0), (3562, 0.0), (3563, 0.0), (3564, 0.0), (3565, 0.0), (3570, 0.0), (3571, 0.0), (3572, 0.0), (3573, 0.0), (3578, 0.0), (3580, 0.0), (3581, 0.0), (3583, 0.0), (3585, 0.0), (3586, 0.0), (3587, 0.0), (3588, 0.0), (3589, 0.0), (3592, 0.0), (3593, 0.0), (3595, 0.0), (3598, 0.0), (3600, 0.0), (3601, 0.0), (3602, 0.0), (3604, 0.0), (3605, 0.0), (3608, 0.0), (3609, 0.0), (3610, 0.0), (3611, 0.0), (3615, 0.0), (3621, 0.0), (3625, 0.0), (3627, 0.0), (3630, 0.0), (3632, 0.0), (3633, 0.0), (3634, 0.0), (3635, 0.0), (3637, 0.0), (3639, 0.0), (3640, 0.0), (3641, 0.0), (3643, 0.0), (3644, 0.0), (3645, 0.0), (3646, 0.0), (3649, 0.0), (3651, 0.0), (3652, 0.0), (3653, 0.0), (3654, 0.0), (3656, 0.0), (3657, 0.0), (3660, 0.0), (3661, 0.0), (3663, 0.0), (3665, 0.0), (3666, 0.0), (3669, 0.0), (3670, 0.0), (3673, 0.0), (3674, 0.0), (3675, 0.0), (3676, 0.0), (3677, 0.0), (3678, 0.0), (3681, 0.0), (3682, 0.0), (3685, 0.0), (3686, 0.0), (3687, 0.0), (3690, 0.0), (3692, 0.0), (3694, 0.0), (3697, 0.0), (3699, 0.0), (3700, 0.0), (3701, 0.0), (3702, 0.0), (3703, 0.0), (3705, 0.0), (3708, 0.0), (3709, 0.0), (3710, 0.0), (3711, 0.0), (3712, 0.0), (3713, 0.0), (3716, 0.0), (3717, 0.0), (3718, 0.0), (3719, 0.0), (3720, 0.0), (3721, 0.0), (3723, 0.0), (3727, 0.0), (3729, 0.0), (3730, 0.0), (3731, 0.0), (3732, 0.0), (3735, 0.0), (3736, 0.0), (3738, 0.0), (3739, 0.0), (3742, 0.0), (3743, 0.0), (3745, 0.0), (3746, 0.0), (3747, 0.0), (3748, 0.0), (3751, 0.0), (3752, 0.0), (3753, 0.0), (3754, 0.0), (3759, 0.0), (3768, 0.0), (3769, 0.0), (3770, 0.0), (3771, 0.0), (3772, 0.0), (3773, 0.0), (3776, 0.0), (3778, 0.0), (3779, 0.0), (3780, 0.0), (3781, 0.0), (3783, 0.0), (3784, 0.0), (3785, 0.0), (3786, 0.0), (3787, 0.0), (3788, 0.0), (3789, 0.0), (3790, 0.0), (3793, 0.0), (3794, 0.0), (3796, 0.0), (3797, 0.0), (3801, 0.0), (3803, 0.0), (3805, 0.0), (3806, 0.0), (3807, 0.0), (3808, 0.0), (3809, 0.0), (3810, 0.0), (3811, 0.0), (3814, 0.0), (3817, 0.0), (3818, 0.0), (3821, 0.0), (3823, 0.0), (3824, 0.0), (3825, 0.0), (3827, 0.0), (3829, 0.0), (3831, 0.0), (3835, 0.0), (3838, 0.0), (3839, 0.0), (3843, 0.0), (3847, 0.0), (3850, 0.0), (3853, 0.0), (3855, 0.0), (3859, 0.0), (3861, 0.0), (3862, 0.0), (3863, 0.0), (3865, 0.0), (3866, 0.0), (3867, 0.0), (3868, 0.0), (3870, 0.0), (3871, 0.0), (3872, 0.0), (3875, 0.0), (3877, 0.0), (3879, 0.0), (3880, 0.0), (3883, 0.0), (3885, 0.0), (3887, 0.0), (3888, 0.0), (3889, 0.0), (3890, 0.0), (3891, 0.0), (3892, 0.0), (3893, 0.0), (3897, 0.0), (3898, 0.0), (3900, 0.0), (3902, 0.0), (3904, 0.0), (3905, 0.0), (3906, 0.0), (3909, 0.0), (3910, 0.0), (3911, 0.0), (3913, 0.0), (3914, 0.0), (3915, 0.0), (3916, 0.0), (3917, 0.0), (3921, 0.0), (3922, 0.0), (3926, 0.0), (3927, 0.0), (3930, 0.0), (3932, 0.0), (3933, 0.0), (3934, 0.0), (3938, 0.0), (3939, 0.0), (3944, 0.0), (3946, 0.0), (3947, 0.0), (3948, 0.0), (3950, 0.0), (3951, 0.0), (3952, 0.0), (3953, 0.0), (3954, 0.0), (3956, 0.0), (3957, 0.0), (3958, 0.0), (3959, 0.0), (3960, 0.0), (3961, 0.0), (3963, 0.0), (3964, 0.0), (3967, 0.0), (3968, 0.0), (3970, 0.0), (3971, 0.0), (3973, 0.0), (3974, 0.0), (3975, 0.0), (3977, 0.0), (3978, 0.0), (3979, 0.0), (3980, 0.0), (3981, 0.0), (3983, 0.0), (3984, 0.0), (3985, 0.0), (3989, 0.0), (3990, 0.0), (3991, 0.0), (3992, 0.0), (3994, 0.0), (3995, 0.0), (3997, 0.0), (3998, 0.0), (3999, 0.0), (4001, 0.0), (4002, 0.0), (4003, 0.0), (4005, 0.0), (4006, 0.0), (4007, 0.0), (4008, 0.0), (4009, 0.0), (4018, 0.0), (4019, 0.0), (4020, 0.0), (4021, 0.0), (4023, 0.0), (4025, 0.0), (4026, 0.0), (4028, 0.0), (4029, 0.0), (4031, 0.0), (4032, 0.0), (4034, 0.0), (4035, 0.0), (4036, 0.0), (4038, 0.0), (4039, 0.0), (4040, 0.0), (4043, 0.0), (4044, 0.0), (4046, 0.0), (4047, 0.0), (4050, 0.0), (4051, 0.0), (4052, 0.0), (4053, 0.0), (4054, 0.0), (4056, 0.0), (4057, 0.0), (4058, 0.0), (4059, 0.0), (4063, 0.0), (4064, 0.0), (4065, 0.0), (4066, 0.0), (4067, 0.0), (4068, 0.0), (4073, 0.0), (4074, 0.0), (4075, 0.0), (4079, 0.0), (4082, 0.0), (4083, 0.0), (4084, 0.0), (4085, 0.0), (4086, 0.0), (4089, 0.0), (4090, 0.0), (4091, 0.0), (4092, 0.0), (4095, 0.0), (4096, 0.0), (4097, 0.0), (4100, 0.0), (4101, 0.0), (4103, 0.0), (4104, 0.0), (4105, 0.0), (4107, 0.0), (4108, 0.0), (4109, 0.0), (4110, 0.0), (4112, 0.0), (4115, 0.0), (4116, 0.0), (4118, 0.0), (4120, 0.0), (4121, 0.0), (4122, 0.0), (4123, 0.0), (4126, 0.0), (4130, 0.0), (4131, 0.0), (4133, 0.0), (4137, 0.0), (4138, 0.0), (4139, 0.0), (4140, 0.0), (4141, 0.0), (4142, 0.0), (4144, 0.0), (4145, 0.0), (4148, 0.0), (4150, 0.0), (4153, 0.0), (4154, 0.0), (4156, 0.0), (4157, 0.0), (4159, 0.0), (4164, 0.0), (4165, 0.0), (4166, 0.0), (4168, 0.0), (4169, 0.0), (4170, 0.0), (4173, 0.0), (4174, 0.0), (4177, 0.0), (4178, 0.0), (4179, 0.0), (4180, 0.0), (4183, 0.0), (4184, 0.0), (4185, 0.0), (4186, 0.0), (4188, 0.0), (4191, 0.0), (4192, 0.0), (4194, 0.0), (4195, 0.0), (4196, 0.0), (4197, 0.0), (4198, 0.0), (4204, 0.0), (4205, 0.0), (4206, 0.0), (4207, 0.0), (4208, 0.0), (4210, 0.0), (4212, 0.0), (4213, 0.0), (4214, 0.0), (4217, 0.0), (4218, 0.0), (4221, 0.0), (4225, 0.0), (4226, 0.0), (4227, 0.0), (4229, 0.0), (4231, 0.0), (4234, 0.0), (4235, 0.0), (4236, 0.0), (4239, 0.0), (4241, 0.0), (4242, 0.0), (4243, 0.0), (4244, 0.0), (4245, 0.0), (4247, 0.0), (4248, 0.0), (4249, 0.0), (4250, 0.0), (4252, 0.0), (4253, 0.0), (4254, 0.0), (4255, 0.0), (4257, 0.0), (4260, 0.0), (4262, 0.0), (4265, 0.0), (4267, 0.0), (4268, 0.0), (4270, 0.0), (4271, 0.0), (4272, 0.0), (4273, 0.0), (4274, 0.0), (4278, 0.0), (4279, 0.0), (4280, 0.0), (4284, 0.0), (4285, 0.0), (4286, 0.0), (4289, 0.0), (4292, 0.0), (4293, 0.0), (4296, 0.0), (4300, 0.0), (4302, 0.0), (4303, 0.0), (4304, 0.0), (4305, 0.0), (4306, 0.0), (4308, 0.0), (4309, 0.0), (4310, 0.0), (4313, 0.0), (4314, 0.0), (4317, 0.0), (4318, 0.0), (4319, 0.0), (4322, 0.0), (4323, 0.0), (4324, 0.0), (4328, 0.0), (4330, 0.0), (4333, 0.0), (4334, 0.0), (4335, 0.0), (4336, 0.0), (4338, 0.0), (4341, 0.0), (4342, 0.0), (4343, 0.0), (4345, 0.0), (4346, 0.0), (4347, 0.0), (4348, 0.0), (4350, 0.0), (4352, 0.0), (4354, 0.0), (4356, 0.0), (4357, 0.0), (4358, 0.0), (4359, 0.0), (4360, 0.0), (4361, 0.0), (4362, 0.0), (4363, 0.0), (4365, 0.0), (4367, 0.0), (4370, 0.0), (4372, 0.0), (4373, 0.0), (4374, 0.0), (4377, 0.0), (4379, 0.0), (4382, 0.0), (4384, 0.0), (4385, 0.0), (4386, 0.0), (4387, 0.0), (4389, 0.0), (4390, 0.0), (4391, 0.0), (4396, 0.0), (4398, 0.0), (4400, 0.0), (4403, 0.0), (4404, 0.0), (4405, 0.0), (4406, 0.0), (4409, 0.0), (4410, 0.0), (4411, 0.0), (4412, 0.0), (4414, 0.0), (4415, 0.0), (4416, 0.0), (4417, 0.0), (4418, 0.0), (4419, 0.0), (4420, 0.0), (4421, 0.0), (4422, 0.0), (4423, 0.0), (4424, 0.0), (4426, 0.0), (4428, 0.0), (4430, 0.0), (4431, 0.0), (4433, 0.0), (4434, 0.0), (4435, 0.0), (4436, 0.0), (4437, 0.0), (4438, 0.0), (4439, 0.0), (4442, 0.0), (4443, 0.0), (4444, 0.0), (4445, 0.0), (4446, 0.0), (4447, 0.0), (4451, 0.0), (4452, 0.0), (4455, 0.0), (4456, 0.0), (4458, 0.0), (4459, 0.0), (4462, 0.0), (4464, 0.0), (4466, 0.0), (4467, 0.0), (4468, 0.0), (4469, 0.0), (4470, 0.0), (4471, 0.0), (4472, 0.0), (4473, 0.0), (4474, 0.0), (4475, 0.0), (4476, 0.0), (4478, 0.0), (4481, 0.0), (4483, 0.0), (4484, 0.0), (4485, 0.0), (4486, 0.0), (4488, 0.0), (4490, 0.0), (4491, 0.0), (4492, 0.0), (4493, 0.0), (4494, 0.0), (4495, 0.0), (4500, 0.0), (4502, 0.0), (4503, 0.0), (4504, 0.0), (4505, 0.0), (4506, 0.0), (4508, 0.0), (4510, 0.0), (4511, 0.0), (4512, 0.0), (4513, 0.0), (4514, 0.0), (4516, 0.0), (4517, 0.0), (4519, 0.0), (4520, 0.0), (4521, 0.0), (4522, 0.0), (4523, 0.0), (4524, 0.0), (4525, 0.0), (4526, 0.0), (4528, 0.0), (4529, 0.0), (4530, 0.0), (4531, 0.0), (4532, 0.0), (4533, 0.0), (4534, 0.0), (4536, 0.0), (4537, 0.0), (4540, 0.0), (4541, 0.0), (4542, 0.0), (4543, 0.0), (4544, 0.0), (4545, 0.0), (4547, 0.0), (4548, 0.0), (4550, 0.0), (4551, 0.0), (4552, 0.0), (4553, 0.0), (4555, 0.0), (4556, 0.0), (4558, 0.0), (4559, 0.0), (4560, 0.0), (4561, 0.0), (4562, 0.0), (4564, 0.0), (4566, 0.0), (4567, 0.0), (4568, 0.0), (4569, 0.0), (4570, 0.0), (4571, 0.0), (4572, 0.0), (4574, 0.0), (4575, 0.0), (4577, 0.0), (4578, 0.0), (4580, 0.0), (4581, 0.0), (4582, 0.0), (4584, 0.0), (4586, 0.0), (4587, 0.0), (4588, 0.0), (4589, 0.0), (4590, 0.0), (4591, 0.0), (4596, 0.0), (4597, 0.0), (4598, 0.0), (4600, 0.0), (4601, 0.0), (4602, 0.0), (4603, 0.0), (4605, 0.0), (4606, 0.0), (4607, 0.0), (4609, 0.0), (4611, 0.0), (4612, 0.0), (4613, 0.0), (4614, 0.0), (4615, 0.0), (4616, 0.0), (4617, 0.0), (4618, 0.0), (4619, 0.0), (4622, 0.0), (4624, 0.0), (4625, 0.0), (4628, 0.0), (4629, 0.0), (4633, 0.0), (4634, 0.0), (4635, 0.0), (4636, 0.0), (4637, 0.0), (4639, 0.0), (4640, 0.0), (4641, 0.0), (4643, 0.0), (4644, 0.0), (4645, 0.0), (4650, 0.0), (4652, 0.0), (4653, 0.0), (4655, 0.0), (4657, 0.0), (4659, 0.0), (4660, 0.0), (4661, 0.0), (4662, 0.0), (4663, 0.0), (4667, 0.0), (4668, 0.0), (4671, 0.0), (4673, 0.0), (4674, 0.0), (4676, 0.0), (4677, 0.0), (4679, 0.0), (4680, 0.0), (4681, 0.0), (4682, 0.0), (4683, 0.0), (4684, 0.0), (4685, 0.0), (4686, 0.0), (4687, 0.0), (4689, 0.0), (4690, 0.0), (4692, 0.0), (4693, 0.0), (4695, 0.0), (4697, 0.0), (4698, 0.0), (4699, 0.0), (4700, 0.0), (4702, 0.0), (4703, 0.0), (4705, 0.0), (4706, 0.0), (4707, 0.0), (4709, 0.0), (4710, 0.0), (4711, 0.0), (4712, 0.0), (4713, 0.0), (4714, 0.0), (4715, 0.0), (4716, 0.0), (4718, 0.0), (4719, 0.0), (4721, 0.0), (4723, 0.0), (4725, 0.0), (4729, 0.0), (4731, 0.0), (4732, 0.0), (4736, 0.0), (4737, 0.0), (4738, 0.0), (4739, 0.0), (4740, 0.0), (4741, 0.0), (4742, 0.0), (4743, 0.0), (4744, 0.0), (4745, 0.0), (4746, 0.0), (4747, 0.0), (4748, 0.0), (4749, 0.0), (4750, 0.0), (4751, 0.0), (4752, 0.0), (4753, 0.0), (4754, 0.0), (4755, 0.0), (4757, 0.0), (4758, 0.0), (4759, 0.0), (4761, 0.0), (4762, 0.0), (4763, 0.0), (4764, 0.0), (4765, 0.0), (4767, 0.0), (4768, 0.0), (4770, 0.0), (4773, 0.0), (4775, 0.0), (4776, 0.0), (4777, 0.0), (4780, 0.0), (4781, 0.0), (4783, 0.0), (4784, 0.0), (4785, 0.0), (4786, 0.0), (4788, 0.0), (4789, 0.0), (4790, 0.0), (4791, 0.0), (4792, 0.0), (4793, 0.0), (4794, 0.0), (4795, 0.0), (4796, 0.0), (4797, 0.0), (4800, 0.0), (4801, 0.0), (4802, 0.0)]\n"
          ]
        }
      ]
    },
    {
      "cell_type": "code",
      "source": [
        "print('Movie Suggested For You Are : \\n')\n",
        "\n",
        "i = 1\n",
        "\n",
        "for movie in sortsimil:\n",
        "  index = movie[0]\n",
        "  title = data[data.index==index]['title'].values[0]\n",
        "  if (i<31):\n",
        "    print(i, '.',title)\n",
        "    i+=1"
      ],
      "metadata": {
        "colab": {
          "base_uri": "https://localhost:8080/"
        },
        "id": "LAyz1fAffsSm",
        "outputId": "7f3e25a7-66c4-43a0-ed79-2d6512f12602"
      },
      "execution_count": 34,
      "outputs": [
        {
          "output_type": "stream",
          "name": "stdout",
          "text": [
            "Movie Suggested For You Are : \n",
            "\n",
            "1 . Spider-Man\n",
            "2 . Spider-Man 3\n",
            "3 . Spider-Man 2\n",
            "4 . The Notebook\n",
            "5 . Seabiscuit\n",
            "6 . Clerks II\n",
            "7 . The Ice Storm\n",
            "8 . Oz: The Great and Powerful\n",
            "9 . Horrible Bosses\n",
            "10 . The Count of Monte Cristo\n",
            "11 . In Good Company\n",
            "12 . Finding Nemo\n",
            "13 . Clear and Present Danger\n",
            "14 . Brothers\n",
            "15 . The Good German\n",
            "16 . Drag Me to Hell\n",
            "17 . Bambi\n",
            "18 . The Queen\n",
            "19 . Charly\n",
            "20 . Escape from L.A.\n",
            "21 . Daybreakers\n",
            "22 . The Life Aquatic with Steve Zissou\n",
            "23 . Labor Day\n",
            "24 . Wimbledon\n",
            "25 . Cold Mountain\n",
            "26 . Hearts in Atlantis\n",
            "27 . Out of the Furnace\n",
            "28 . Bullets Over Broadway\n",
            "29 . The Purge: Election Year\n",
            "30 . Dick\n"
          ]
        }
      ]
    },
    {
      "cell_type": "markdown",
      "source": [
        "Movie Recommendation System"
      ],
      "metadata": {
        "id": "_UIWezgVm6j4"
      }
    },
    {
      "cell_type": "code",
      "source": [
        "moviename = input(\"Enter Movie Name: \")\n",
        "movietitle = data['title'].tolist()\n",
        "closematch  = difflib.get_close_matches(moviename,movietitle)\n",
        "index_val  = data[data.title == closematch[0]]['index'].values[0]\n",
        "similarity_score = [(i, float(score)) for i, score in enumerate(similarity[index_val])]\n",
        "sortsimil = sorted(similarity_score, reverse=True, key=lambda x: x[1])\n",
        "print('Movie Suggested For You Are : \\n')\n",
        "\n",
        "i = 1\n",
        "\n",
        "for movie in sortsimil:\n",
        "  index = movie[0]\n",
        "  title = data[data.index==index]['title'].values[0]\n",
        "  if (i<31):\n",
        "    print(i, '.',title)\n",
        "    i+=1"
      ],
      "metadata": {
        "colab": {
          "base_uri": "https://localhost:8080/"
        },
        "id": "ILIyfNtDmJ89",
        "outputId": "fc5acee3-0cbe-4063-997b-ddfad8a94e12"
      },
      "execution_count": 35,
      "outputs": [
        {
          "output_type": "stream",
          "name": "stdout",
          "text": [
            "Enter Movie Name: Avengers\n",
            "Movie Suggested For You Are : \n",
            "\n",
            "1 . The Avengers\n",
            "2 . Avengers: Age of Ultron\n",
            "3 . Captain America: The Winter Soldier\n",
            "4 . Captain America: Civil War\n",
            "5 . Iron Man 2\n",
            "6 . Thor: The Dark World\n",
            "7 . X-Men\n",
            "8 . The Incredible Hulk\n",
            "9 . X-Men: Apocalypse\n",
            "10 . Ant-Man\n",
            "11 . Thor\n",
            "12 . X2\n",
            "13 . X-Men: The Last Stand\n",
            "14 . Deadpool\n",
            "15 . X-Men: Days of Future Past\n",
            "16 . Captain America: The First Avenger\n",
            "17 . The Amazing Spider-Man 2\n",
            "18 . The Image Revolution\n",
            "19 . Iron Man\n",
            "20 . Iron Man 3\n",
            "21 . Man of Steel\n",
            "22 . The Spirit\n",
            "23 . Superman II\n",
            "24 . X-Men: First Class\n",
            "25 . Guardians of the Galaxy\n",
            "26 . Batman v Superman: Dawn of Justice\n",
            "27 . Serenity\n",
            "28 . Spawn\n",
            "29 . Teenage Mutant Ninja Turtles: Out of the Shadows\n",
            "30 . The Helix... Loaded\n"
          ]
        }
      ]
    },
    {
      "cell_type": "code",
      "source": [],
      "metadata": {
        "id": "GweSlXPOngnS"
      },
      "execution_count": null,
      "outputs": []
    }
  ]
}